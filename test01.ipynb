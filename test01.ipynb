{
  "cells": [
    {
      "cell_type": "code",
      "execution_count": null,
      "id": "eef9bc30",
      "metadata": {
        "id": "eef9bc30",
        "outputId": "b0158d5c-c06f-4d3d-e306-c02aa56797f9"
      },
      "outputs": [
        {
          "name": "stdout",
          "output_type": "stream",
          "text": [
            "He\n"
          ]
        }
      ],
      "source": [
        "print(\"He\")"
      ]
    },
    {
      "cell_type": "code",
      "source": [
        "print(\"test colab\")"
      ],
      "metadata": {
        "id": "iPvQcTva5zIt"
      },
      "id": "iPvQcTva5zIt",
      "execution_count": null,
      "outputs": []
    }
  ],
  "metadata": {
    "kernelspec": {
      "display_name": "Python 3",
      "language": "python",
      "name": "python3"
    },
    "language_info": {
      "codemirror_mode": {
        "name": "ipython",
        "version": 3
      },
      "file_extension": ".py",
      "mimetype": "text/x-python",
      "name": "python",
      "nbconvert_exporter": "python",
      "pygments_lexer": "ipython3",
      "version": "3.12.8"
    },
    "colab": {
      "provenance": []
    }
  },
  "nbformat": 4,
  "nbformat_minor": 5
}