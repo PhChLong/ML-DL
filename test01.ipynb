{
 "cells": [
  {
   "cell_type": "code",
   "execution_count": 1,
   "id": "1b20dbb6",
   "metadata": {
    "execution": {
     "iopub.execute_input": "2025-10-11T15:37:14.335904Z",
     "iopub.status.busy": "2025-10-11T15:37:14.335477Z",
     "iopub.status.idle": "2025-10-11T15:37:14.345317Z",
     "shell.execute_reply": "2025-10-11T15:37:14.344264Z"
    },
    "id": "eef9bc30",
    "outputId": "b0158d5c-c06f-4d3d-e306-c02aa56797f9",
    "papermill": {
     "duration": 0.014755,
     "end_time": "2025-10-11T15:37:14.347056",
     "exception": false,
     "start_time": "2025-10-11T15:37:14.332301",
     "status": "completed"
    },
    "tags": []
   },
   "outputs": [
    {
     "name": "stdout",
     "output_type": "stream",
     "text": [
      "He\n"
     ]
    }
   ],
   "source": [
    "print(\"He\")"
   ]
  },
  {
   "cell_type": "code",
   "execution_count": 2,
   "id": "a8348f79",
   "metadata": {
    "execution": {
     "iopub.execute_input": "2025-10-11T15:37:14.352630Z",
     "iopub.status.busy": "2025-10-11T15:37:14.352234Z",
     "iopub.status.idle": "2025-10-11T15:37:14.358021Z",
     "shell.execute_reply": "2025-10-11T15:37:14.356795Z"
    },
    "id": "iPvQcTva5zIt",
    "papermill": {
     "duration": 0.010469,
     "end_time": "2025-10-11T15:37:14.359693",
     "exception": false,
     "start_time": "2025-10-11T15:37:14.349224",
     "status": "completed"
    },
    "tags": []
   },
   "outputs": [
    {
     "name": "stdout",
     "output_type": "stream",
     "text": [
      "test colab\n"
     ]
    }
   ],
   "source": [
    "print(\"test colab\")"
   ]
  },
  {
   "cell_type": "code",
   "execution_count": 3,
   "id": "5f99538a",
   "metadata": {
    "execution": {
     "iopub.execute_input": "2025-10-11T15:37:14.364592Z",
     "iopub.status.busy": "2025-10-11T15:37:14.364249Z",
     "iopub.status.idle": "2025-10-11T15:37:14.370098Z",
     "shell.execute_reply": "2025-10-11T15:37:14.368841Z"
    },
    "papermill": {
     "duration": 0.010071,
     "end_time": "2025-10-11T15:37:14.371731",
     "exception": false,
     "start_time": "2025-10-11T15:37:14.361660",
     "status": "completed"
    },
    "tags": []
   },
   "outputs": [
    {
     "name": "stdout",
     "output_type": "stream",
     "text": [
      "test kaggle\n"
     ]
    }
   ],
   "source": [
    "print(\"test kaggle\")"
   ]
  }
 ],
 "metadata": {
  "colab": {
   "provenance": []
  },
  "kaggle": {
   "accelerator": "none",
   "dataSources": [],
   "isGpuEnabled": false,
   "isInternetEnabled": true,
   "language": "python",
   "sourceType": "notebook"
  },
  "kernelspec": {
   "display_name": "Python 3",
   "language": "python",
   "name": "python3"
  },
  "language_info": {
   "codemirror_mode": {
    "name": "ipython",
    "version": 3
   },
   "file_extension": ".py",
   "mimetype": "text/x-python",
   "name": "python",
   "nbconvert_exporter": "python",
   "pygments_lexer": "ipython3",
   "version": "3.11.13"
  },
  "papermill": {
   "default_parameters": {},
   "duration": 5.561863,
   "end_time": "2025-10-11T15:37:14.793425",
   "environment_variables": {},
   "exception": null,
   "input_path": "__notebook__.ipynb",
   "output_path": "__notebook__.ipynb",
   "parameters": {},
   "start_time": "2025-10-11T15:37:09.231562",
   "version": "2.6.0"
  }
 },
 "nbformat": 4,
 "nbformat_minor": 5
}
