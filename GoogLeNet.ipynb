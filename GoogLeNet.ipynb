{
  "metadata": {
    "kernelspec": {
      "name": "python3",
      "display_name": "Python 3"
    },
    "language_info": {
      "name": "python",
      "version": "3.11.13",
      "mimetype": "text/x-python",
      "codemirror_mode": {
        "name": "ipython",
        "version": 3
      },
      "pygments_lexer": "ipython3",
      "nbconvert_exporter": "python",
      "file_extension": ".py"
    },
    "colab": {
      "provenance": [],
      "gpuType": "T4",
      "toc_visible": true,
      "include_colab_link": true
    },
    "accelerator": "GPU",
    "kaggle": {
      "accelerator": "none",
      "dataSources": [],
      "dockerImageVersionId": 31153,
      "isInternetEnabled": true,
      "language": "python",
      "sourceType": "notebook",
      "isGpuEnabled": false
    }
  },
  "nbformat_minor": 0,
  "nbformat": 4,
  "cells": [
    {
      "cell_type": "markdown",
      "metadata": {
        "id": "view-in-github",
        "colab_type": "text"
      },
      "source": [
        "<a href=\"https://colab.research.google.com/github/PhChLong/ML-DL/blob/main/GoogLeNet.ipynb\" target=\"_parent\"><img src=\"https://colab.research.google.com/assets/colab-badge.svg\" alt=\"Open In Colab\"/></a>"
      ]
    },
    {
      "cell_type": "code",
      "source": [
        "import numpy as np\n",
        "import pandas as pd\n",
        "import matplotlib.pyplot as plt\n",
        "\n",
        "import torch\n",
        "from torch import nn\n",
        "from torch.utils.data import DataLoader, random_split\n",
        "import torchvision\n",
        "from torchvision.transforms import v2\n",
        "from torchvision.transforms.v2 import ToTensor\n",
        "from torchvision import datasets\n",
        "from torch.optim.lr_scheduler import ReduceLROnPlateau"
      ],
      "metadata": {
        "id": "PvbD-AQv_4aX",
        "trusted": true,
        "execution": {
          "iopub.status.busy": "2025-10-13T13:30:42.740726Z",
          "iopub.execute_input": "2025-10-13T13:30:42.741032Z",
          "iopub.status.idle": "2025-10-13T13:30:42.745283Z",
          "shell.execute_reply.started": "2025-10-13T13:30:42.741012Z",
          "shell.execute_reply": "2025-10-13T13:30:42.744540Z"
        }
      },
      "outputs": [],
      "execution_count": null
    },
    {
      "cell_type": "code",
      "source": [
        "device = \"cuda\" if torch.cuda.is_available() else \"cpu\""
      ],
      "metadata": {
        "id": "GM7l7NitVbF8",
        "trusted": true,
        "execution": {
          "iopub.status.busy": "2025-10-13T13:30:42.747048Z",
          "iopub.execute_input": "2025-10-13T13:30:42.747611Z",
          "iopub.status.idle": "2025-10-13T13:30:42.766927Z",
          "shell.execute_reply.started": "2025-10-13T13:30:42.747588Z",
          "shell.execute_reply": "2025-10-13T13:30:42.766378Z"
        }
      },
      "outputs": [],
      "execution_count": null
    },
    {
      "cell_type": "markdown",
      "source": [
        "## Data"
      ],
      "metadata": {
        "id": "m-NE9oXYDhI3"
      }
    },
    {
      "cell_type": "code",
      "source": [
        "transform_train = v2.Compose([\n",
        "    v2.RandomHorizontalFlip(p=0.5),\n",
        "    v2.RandomCrop(96, padding=4),\n",
        "    v2.ColorJitter(brightness=0.2, contrast=0.2, saturation=0.2),\n",
        "    v2.RandomRotation(15),\n",
        "    ToTensor(),\n",
        "    v2.Normalize(\n",
        "        mean=[0.5071, 0.4867, 0.4408],\n",
        "        std=[0.2675, 0.2565, 0.2761]\n",
        "    )\n",
        "])\n",
        "transform_test = v2.Compose([\n",
        "    ToTensor(),\n",
        "    v2.Normalize(\n",
        "        mean=[0.5071, 0.4867, 0.4408],\n",
        "        std=[0.2675, 0.2565, 0.2761]\n",
        "    )\n",
        "])\n",
        "trainset = datasets.CIFAR100(root = './data', train = True, download= True, transform = transform_train)\n",
        "testset = datasets.CIFAR100(root = './data', train = False, download= True, transform = transform_test)\n",
        "\n",
        "train_size = int(0.8* len(trainset))\n",
        "valid_size = len(trainset) - train_size\n",
        "trainset, validset = random_split(trainset, [train_size, valid_size])\n",
        "\n",
        "train_loader = DataLoader(trainset, batch_size = 64, shuffle = True)\n",
        "valid_loader = DataLoader(validset, batch_size = 64, shuffle = False)\n",
        "test_loader = DataLoader(testset, batch_size = 64, shuffle = False)"
      ],
      "metadata": {
        "id": "it6ux8yZDSIs",
        "trusted": true,
        "execution": {
          "iopub.status.busy": "2025-10-13T13:30:42.768027Z",
          "iopub.execute_input": "2025-10-13T13:30:42.768209Z",
          "iopub.status.idle": "2025-10-13T13:30:44.628799Z",
          "shell.execute_reply.started": "2025-10-13T13:30:42.768196Z",
          "shell.execute_reply": "2025-10-13T13:30:44.628038Z"
        }
      },
      "outputs": [],
      "execution_count": null
    },
    {
      "cell_type": "markdown",
      "source": [
        "## GoogLeNet"
      ],
      "metadata": {
        "id": "x5XxzDgcHryI"
      }
    },
    {
      "cell_type": "markdown",
      "source": [
        "### Inception Block"
      ],
      "metadata": {
        "id": "J6Js1Tz7Of6G"
      }
    },
    {
      "cell_type": "code",
      "source": [
        "\n",
        "class InceptionBlock(nn.Module):\n",
        "    def __init__(self, in_chan, out1, out2, out3, out4):\n",
        "        super().__init__()\n",
        "        self.b1 = nn.Sequential(\n",
        "            nn.Conv2d(in_chan, out1, kernel_size=1),nn.BatchNorm2d(out1),nn.ReLU()\n",
        "        )\n",
        "        self.b2 = nn.Sequential(\n",
        "            nn.Conv2d(in_chan, out2[0], kernel_size=1),nn.BatchNorm2d(out2[0]),nn.ReLU(),\n",
        "            nn.Conv2d(out2[0], out2[1], kernel_size=3, padding=1),nn.BatchNorm2d(out2[1]),nn.ReLU()\n",
        "        )\n",
        "        self.b3 = nn.Sequential(\n",
        "            nn.Conv2d(in_chan, out3[0], kernel_size=1),nn.BatchNorm2d(out3[0]),nn.ReLU(),\n",
        "            nn.Conv2d(out3[0], out3[1], kernel_size=5, padding=2),nn.BatchNorm2d(out3[1]),nn.ReLU()\n",
        "        )\n",
        "        self.b4 = nn.Sequential(\n",
        "            nn.MaxPool2d(kernel_size=3, stride=1, padding=1),\n",
        "            nn.Conv2d(in_chan, out4, kernel_size=1),nn.BatchNorm2d(out4),nn.ReLU())\n",
        "\n",
        "        self.out_channel = out1 + out2[1] + out3[1] + out4\n",
        "\n",
        "    def forward(self, x):\n",
        "        x1 = self.b1(x)\n",
        "        x2 = self.b2(x)\n",
        "        x3 = self.b3(x)\n",
        "        x4 = self.b4(x)\n",
        "        return torch.cat((x1, x2, x3, x4), dim=1)\n"
      ],
      "metadata": {
        "id": "H2yncsTyHwXM",
        "trusted": true,
        "execution": {
          "iopub.status.busy": "2025-10-13T13:30:44.629642Z",
          "iopub.execute_input": "2025-10-13T13:30:44.629880Z",
          "iopub.status.idle": "2025-10-13T13:30:44.637281Z",
          "shell.execute_reply.started": "2025-10-13T13:30:44.629841Z",
          "shell.execute_reply": "2025-10-13T13:30:44.636575Z"
        }
      },
      "outputs": [],
      "execution_count": null
    },
    {
      "cell_type": "markdown",
      "source": [
        "### Model"
      ],
      "metadata": {
        "id": "JL-kUCxBOkFJ"
      }
    },
    {
      "cell_type": "code",
      "source": [
        "class GoogLeNet(nn.Module):\n",
        "    def __init__(self, classes = 100, dropout_rate=0.3):\n",
        "        super().__init__()\n",
        "        self.b1 = nn.Sequential(\n",
        "            nn.Conv2d(3, 64, kernel_size=3, stride=1, padding=1),\n",
        "            nn.ReLU())\n",
        "        self.b2 = nn.Sequential(\n",
        "            nn.Conv2d(64, 64, kernel_size=1),  nn.ReLU(),\n",
        "            nn.Conv2d(64, 192, kernel_size=3, padding=1), nn.ReLU(),\n",
        "            nn.MaxPool2d(kernel_size=3, stride=2, padding=1))\n",
        "        self.b3 = nn.Sequential(InceptionBlock(192, 64, (96, 128), (16, 32), 32),\n",
        "                         InceptionBlock(256, 128, (128, 192), (32, 96), 64),\n",
        "                         nn.MaxPool2d(kernel_size=3, stride=2, padding=1))\n",
        "        ## num_output_channel = 256 + 480 = 736\n",
        "        self.b4 = nn.Sequential(InceptionBlock(480, 192, (96, 208), (16, 48), 64),\n",
        "                         InceptionBlock(512, 160, (112, 224), (24, 64), 64),\n",
        "                         InceptionBlock(512, 128, (128, 256), (24, 64), 64),\n",
        "                         InceptionBlock(512, 112, (144, 288), (32, 64), 64),\n",
        "                         InceptionBlock(528, 256, (160, 320), (32, 128), 128),\n",
        "                         nn.MaxPool2d(kernel_size=3, stride=2, padding=1))\n",
        "        self.b5 = nn.Sequential(InceptionBlock(832, 256, (160, 320), (32, 128), 128),\n",
        "                         InceptionBlock(832, 384, (192, 384), (48, 128), 128),\n",
        "                         nn.AdaptiveAvgPool2d((1,1)), nn.Flatten())\n",
        "        self.net = nn.Sequential(\n",
        "            self.b1, self.b2, self.b3, self.b4, self.b5,nn.Dropout(dropout_rate), nn.Linear(1024, classes)\n",
        "        )\n",
        "    def forward(self, x):\n",
        "        return self.net(x)"
      ],
      "metadata": {
        "id": "YvGGc031OmRa",
        "trusted": true,
        "execution": {
          "iopub.status.busy": "2025-10-13T13:30:44.638586Z",
          "iopub.execute_input": "2025-10-13T13:30:44.638945Z",
          "iopub.status.idle": "2025-10-13T13:30:44.665027Z",
          "shell.execute_reply.started": "2025-10-13T13:30:44.638927Z",
          "shell.execute_reply": "2025-10-13T13:30:44.664423Z"
        }
      },
      "outputs": [],
      "execution_count": null
    },
    {
      "cell_type": "markdown",
      "source": [
        "## Train"
      ],
      "metadata": {
        "id": "bkjslxwkVRvv"
      }
    },
    {
      "cell_type": "code",
      "source": [
        "def train_dataloader_model(\n",
        "    model, train_loader, valid_loader, optim, loss_fn,\n",
        "    device=None, max_epochs=100, diff=1e-3, patience=5\n",
        "):\n",
        "    if device is None:\n",
        "        device = torch.device(\"cuda\" if torch.cuda.is_available() else \"cpu\")\n",
        "\n",
        "    model.to(device)\n",
        "\n",
        "    train_losses = []\n",
        "    valid_losses = []\n",
        "    valid_accuracies = []\n",
        "\n",
        "    valid_loss_min = float(\"inf\")\n",
        "    patience_counter = 0\n",
        "\n",
        "    for epoch in range(max_epochs):\n",
        "        # ----------------------------\n",
        "        # TRAINING PHASE\n",
        "        # ----------------------------\n",
        "        model.train()\n",
        "        running_train_loss = 0.0\n",
        "\n",
        "        for X_train, y_train in train_loader:\n",
        "            X_train, y_train = X_train.to(device), y_train.to(device)\n",
        "\n",
        "            optim.zero_grad()\n",
        "            y_pred = model(X_train)\n",
        "            loss = loss_fn(y_pred, y_train)\n",
        "            loss.backward()\n",
        "            optim.step()\n",
        "\n",
        "            running_train_loss += loss.item()\n",
        "\n",
        "        epoch_train_loss = running_train_loss / len(train_loader)\n",
        "        train_losses.append(epoch_train_loss)\n",
        "\n",
        "        # ----------------------------\n",
        "        # VALIDATION PHASE\n",
        "        # ----------------------------\n",
        "        model.eval()\n",
        "        running_valid_loss = 0.0\n",
        "        correct = 0\n",
        "        total = 0\n",
        "\n",
        "        with torch.no_grad():\n",
        "            for X_valid, y_valid in valid_loader:\n",
        "                X_valid, y_valid = X_valid.to(device), y_valid.to(device)\n",
        "                y_pred = model(X_valid)\n",
        "\n",
        "                # Compute validation loss\n",
        "                loss = loss_fn(y_pred, y_valid)\n",
        "                running_valid_loss += loss.item()\n",
        "\n",
        "                # Compute accuracy\n",
        "                _, predicted = torch.max(y_pred, 1)\n",
        "                correct += (predicted == y_valid).sum().item()\n",
        "                total += y_valid.size(0)\n",
        "\n",
        "        epoch_valid_loss = running_valid_loss / len(valid_loader)\n",
        "        epoch_valid_acc = correct / total\n",
        "\n",
        "        valid_losses.append(epoch_valid_loss)\n",
        "        valid_accuracies.append(epoch_valid_acc)\n",
        "\n",
        "        scheduler.step(epoch_valid_loss)\n",
        "        # ----------------------------\n",
        "        # EARLY STOPPING CHECKS\n",
        "        # ----------------------------\n",
        "        if epoch > 0 and abs(train_losses[-1] - train_losses[-2]) < diff:\n",
        "            print(f\"epoch {epoch}: loss diff < {diff} → early convergence.\")\n",
        "            break\n",
        "\n",
        "        if epoch_valid_loss < valid_loss_min - diff:\n",
        "            valid_loss_min = epoch_valid_loss\n",
        "            patience_counter = 0\n",
        "        else:\n",
        "            patience_counter += 1\n",
        "\n",
        "        print(\n",
        "            f\"Epoch [{epoch+1}/{max_epochs}] | \"\n",
        "            f\"Train Loss: {epoch_train_loss:.4f} | \"\n",
        "            f\"Valid Loss: {epoch_valid_loss:.4f} | \"\n",
        "            f\"Valid Acc: {epoch_valid_acc*100:.2f}%\"\n",
        "        )\n",
        "\n",
        "        if patience_counter >= patience:\n",
        "            print(f\"\\nEarly stopping: no improvement for {patience} epochs.\")\n",
        "            break\n",
        "\n",
        "    # ----------------------------\n",
        "    # PLOTTING BEFORE RETURN\n",
        "    # ----------------------------\n",
        "    epochs = range(1, len(train_losses) + 1)\n",
        "\n",
        "    plt.figure(figsize=(10, 5))\n",
        "    plt.subplot(1, 2, 1)\n",
        "    plt.plot(epochs, train_losses, label=\"Train Loss\")\n",
        "    plt.plot(epochs, valid_losses, label=\"Valid Loss\")\n",
        "    plt.xlabel(\"Epoch\")\n",
        "    plt.ylabel(\"Loss\")\n",
        "    plt.title(\"Training vs Validation Loss\")\n",
        "    plt.legend()\n",
        "\n",
        "    plt.subplot(1, 2, 2)\n",
        "    plt.plot(epochs, valid_accuracies, label=\"Valid Accuracy\", color=\"green\")\n",
        "    plt.xlabel(\"Epoch\")\n",
        "    plt.ylabel(\"Accuracy\")\n",
        "    plt.title(\"Validation Accuracy\")\n",
        "    plt.legend()\n",
        "\n",
        "    plt.tight_layout()\n",
        "    plt.show()\n",
        "\n",
        "    return train_losses, valid_losses, valid_accuracies\n"
      ],
      "metadata": {
        "id": "qq_m_nFvVTA3",
        "trusted": true,
        "execution": {
          "iopub.status.busy": "2025-10-13T13:30:44.665622Z",
          "iopub.execute_input": "2025-10-13T13:30:44.665790Z",
          "iopub.status.idle": "2025-10-13T13:30:44.688381Z",
          "shell.execute_reply.started": "2025-10-13T13:30:44.665776Z",
          "shell.execute_reply": "2025-10-13T13:30:44.687896Z"
        }
      },
      "outputs": [],
      "execution_count": null
    },
    {
      "cell_type": "code",
      "source": [
        "model = GoogLeNet(dropout_rate = 0).to(device)\n",
        "optim = torch.optim.Adam(model.parameters(), lr=1e-3, weight_decay = 1e-4)\n",
        "loss_fn = nn.CrossEntropyLoss()\n",
        "scheduler = ReduceLROnPlateau(optim, mode='min', factor=0.5, patience=3)"
      ],
      "metadata": {
        "id": "wNkfK_DnVWIS",
        "trusted": true,
        "execution": {
          "iopub.status.busy": "2025-10-13T13:30:44.688996Z",
          "iopub.execute_input": "2025-10-13T13:30:44.689213Z",
          "iopub.status.idle": "2025-10-13T13:30:44.785831Z",
          "shell.execute_reply.started": "2025-10-13T13:30:44.689199Z",
          "shell.execute_reply": "2025-10-13T13:30:44.785268Z"
        }
      },
      "outputs": [],
      "execution_count": null
    },
    {
      "cell_type": "code",
      "source": [
        "train_dataloader_model(model, train_loader, valid_loader, optim= optim, loss_fn= loss_fn)"
      ],
      "metadata": {
        "colab": {
          "base_uri": "https://localhost:8080/",
          "height": 582
        },
        "id": "G8sfFhsLV8-J",
        "outputId": "9fd5870c-60d8-470b-f1e8-79595a5af08c",
        "trusted": true,
        "execution": {
          "iopub.status.busy": "2025-10-13T13:30:44.786781Z",
          "iopub.execute_input": "2025-10-13T13:30:44.787054Z",
          "iopub.status.idle": "2025-10-13T14:21:32.897608Z",
          "shell.execute_reply.started": "2025-10-13T13:30:44.787035Z",
          "shell.execute_reply": "2025-10-13T14:21:32.896897Z"
        }
      },
      "outputs": [
        {
          "name": "stdout",
          "text": "Epoch [1/100] | Train Loss: 3.9939 | Valid Loss: 3.6907 | Valid Acc: 11.35%\nEpoch [2/100] | Train Loss: 3.4583 | Valid Loss: 3.4056 | Valid Acc: 17.35%\nEpoch [3/100] | Train Loss: 3.0432 | Valid Loss: 3.0011 | Valid Acc: 23.45%\nEpoch [4/100] | Train Loss: 2.7233 | Valid Loss: 2.6428 | Valid Acc: 30.68%\nEpoch [5/100] | Train Loss: 2.4753 | Valid Loss: 2.5608 | Valid Acc: 33.57%\nEpoch [6/100] | Train Loss: 2.2849 | Valid Loss: 2.3254 | Valid Acc: 37.87%\nEpoch [7/100] | Train Loss: 2.1262 | Valid Loss: 2.3777 | Valid Acc: 37.39%\nEpoch [8/100] | Train Loss: 1.9907 | Valid Loss: 2.2385 | Valid Acc: 40.33%\nEpoch [9/100] | Train Loss: 1.8817 | Valid Loss: 2.0269 | Valid Acc: 44.48%\nEpoch [10/100] | Train Loss: 1.7777 | Valid Loss: 2.0558 | Valid Acc: 44.29%\nEpoch [11/100] | Train Loss: 1.6971 | Valid Loss: 1.9043 | Valid Acc: 47.64%\nEpoch [12/100] | Train Loss: 1.6100 | Valid Loss: 1.9360 | Valid Acc: 47.78%\nEpoch [13/100] | Train Loss: 1.5480 | Valid Loss: 1.8417 | Valid Acc: 49.91%\nEpoch [14/100] | Train Loss: 1.4751 | Valid Loss: 1.9007 | Valid Acc: 48.83%\nEpoch [15/100] | Train Loss: 1.4247 | Valid Loss: 1.7794 | Valid Acc: 51.83%\nEpoch [16/100] | Train Loss: 1.3524 | Valid Loss: 1.7333 | Valid Acc: 52.81%\nEpoch [17/100] | Train Loss: 1.3169 | Valid Loss: 1.7067 | Valid Acc: 53.16%\nEpoch [18/100] | Train Loss: 1.2586 | Valid Loss: 1.8166 | Valid Acc: 52.24%\nEpoch [19/100] | Train Loss: 1.2208 | Valid Loss: 1.7759 | Valid Acc: 52.33%\nEpoch [20/100] | Train Loss: 1.1887 | Valid Loss: 1.7482 | Valid Acc: 53.28%\nEpoch [21/100] | Train Loss: 1.1348 | Valid Loss: 1.8134 | Valid Acc: 52.87%\nEpoch [22/100] | Train Loss: 0.8857 | Valid Loss: 1.5121 | Valid Acc: 59.06%\nEpoch [23/100] | Train Loss: 0.8072 | Valid Loss: 1.5887 | Valid Acc: 58.22%\nEpoch [24/100] | Train Loss: 0.7751 | Valid Loss: 1.5529 | Valid Acc: 58.87%\nEpoch [25/100] | Train Loss: 0.7425 | Valid Loss: 1.5810 | Valid Acc: 58.54%\nEpoch [26/100] | Train Loss: 0.7068 | Valid Loss: 1.5912 | Valid Acc: 58.68%\nEpoch [27/100] | Train Loss: 0.5522 | Valid Loss: 1.4993 | Valid Acc: 61.21%\nEpoch [28/100] | Train Loss: 0.5022 | Valid Loss: 1.5392 | Valid Acc: 61.04%\nEpoch [29/100] | Train Loss: 0.4755 | Valid Loss: 1.5435 | Valid Acc: 61.67%\nEpoch [30/100] | Train Loss: 0.4555 | Valid Loss: 1.5495 | Valid Acc: 60.99%\nEpoch [31/100] | Train Loss: 0.4255 | Valid Loss: 1.5631 | Valid Acc: 61.72%\nEpoch [32/100] | Train Loss: 0.3492 | Valid Loss: 1.5264 | Valid Acc: 62.67%\n\nEarly stopping: no improvement for 5 epochs.\n",
          "output_type": "stream"
        },
        {
          "output_type": "display_data",
          "data": {
            "text/plain": "<Figure size 1000x500 with 2 Axes>",
            "image/png": "[encoded data removed]"
          },
          "metadata": {}
        },
        {
          "execution_count": 27,
          "output_type": "execute_result",
          "data": {
            "text/plain": "([3.993853161239624,\n  3.4583449798583983,\n  3.043210942840576,\n  2.7233119968414305,\n  2.475333088874817,\n  2.284856153869629,\n  2.1261718351364136,\n  1.990658179664612,\n  1.881723122215271,\n  1.7776876270294188,\n  1.6971406223297119,\n  1.610049175453186,\n  1.547984296131134,\n  1.4750950830459595,\n  1.4246723923683167,\n  1.3523733125686646,\n  1.3169104234695435,\n  1.258552929019928,\n  1.2208354325294495,\n  1.1887396308898925,\n  1.1347755321502686,\n  0.8857255617618561,\n  0.8071751853466034,\n  0.7750768761634826,\n  0.7424717410564423,\n  0.7067680654525756,\n  0.5522271815299988,\n  0.5022077312231064,\n  0.47554089119434356,\n  0.455537868642807,\n  0.4254578322410584,\n  0.3491513294696808],\n [3.6906968848720476,\n  3.4056432140860586,\n  3.001138008324204,\n  2.642795843683231,\n  2.5607989882207978,\n  2.325441225319152,\n  2.377723555655996,\n  2.2385286669822255,\n  2.026898948250303,\n  2.055797103863613,\n  1.9043160456760673,\n  1.936027315012209,\n  1.8416807006119162,\n  1.9007440942108251,\n  1.7793570612646212,\n  1.7333298435636386,\n  1.7067488758427323,\n  1.8165784816073764,\n  1.7758866745954867,\n  1.7482058857656588,\n  1.8133586151584697,\n  1.512131320443123,\n  1.5886936673692837,\n  1.5528674140857284,\n  1.5810184197820676,\n  1.5912480954152004,\n  1.4992953314902677,\n  1.5391900452079288,\n  1.5434642232907045,\n  1.5495191717603405,\n  1.563055366087871,\n  1.5263622835942894],\n [0.1135,\n  0.1735,\n  0.2345,\n  0.3068,\n  0.3357,\n  0.3787,\n  0.3739,\n  0.4033,\n  0.4448,\n  0.4429,\n  0.4764,\n  0.4778,\n  0.4991,\n  0.4883,\n  0.5183,\n  0.5281,\n  0.5316,\n  0.5224,\n  0.5233,\n  0.5328,\n  0.5287,\n  0.5906,\n  0.5822,\n  0.5887,\n  0.5854,\n  0.5868,\n  0.6121,\n  0.6104,\n  0.6167,\n  0.6099,\n  0.6172,\n  0.6267])"
          },
          "metadata": {}
        }
      ],
      "execution_count": null
    },
    {
      "cell_type": "code",
      "source": [
        "model.eval()\n",
        "with torch.no_grad():\n",
        "    epoch_test_loss = 0\n",
        "    for X_test, y_test in test_loader:\n",
        "        X_test, y_test = X_test.to(device), y_test.to(device)\n",
        "        y_test_pred = model(X_test)\n",
        "        c_loss = loss_fn(y_test_pred, y_test)\n",
        "        epoch_test_loss += c_loss.item()\n",
        "    epoch_test_loss /= len(test_loader)\n",
        "    print(epoch_test_loss)"
      ],
      "metadata": {
        "colab": {
          "base_uri": "https://localhost:8080/"
        },
        "id": "47ZA4p2wotxO",
        "outputId": "f8bdfe7a-913b-4847-f930-c8820a1bb1f7",
        "trusted": true,
        "execution": {
          "iopub.status.busy": "2025-10-13T14:21:32.898449Z",
          "iopub.execute_input": "2025-10-13T14:21:32.898712Z",
          "iopub.status.idle": "2025-10-13T14:21:39.787717Z",
          "shell.execute_reply.started": "2025-10-13T14:21:32.898689Z",
          "shell.execute_reply": "2025-10-13T14:21:39.786956Z"
        }
      },
      "outputs": [
        {
          "name": "stdout",
          "text": "1.4128906525624025\n",
          "output_type": "stream"
        }
      ],
      "execution_count": null
    }
  ]
}