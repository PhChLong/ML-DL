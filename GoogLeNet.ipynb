{
  "metadata": {
    "kernelspec": {
      "name": "python3",
      "display_name": "Python 3"
    },
    "language_info": {
      "name": "python",
      "version": "3.11.13",
      "mimetype": "text/x-python",
      "codemirror_mode": {
        "name": "ipython",
        "version": 3
      },
      "pygments_lexer": "ipython3",
      "nbconvert_exporter": "python",
      "file_extension": ".py"
    },
    "colab": {
      "provenance": [],
      "gpuType": "T4",
      "toc_visible": true,
      "include_colab_link": true
    },
    "accelerator": "GPU",
    "kaggle": {
      "accelerator": "none",
      "dataSources": [],
      "dockerImageVersionId": 31153,
      "isInternetEnabled": true,
      "language": "python",
      "sourceType": "notebook",
      "isGpuEnabled": false
    }
  },
  "nbformat_minor": 0,
  "nbformat": 4,
  "cells": [
    {
      "cell_type": "markdown",
      "metadata": {
        "id": "view-in-github",
        "colab_type": "text"
      },
      "source": [
        "<a href=\"https://colab.research.google.com/github/PhChLong/ML-DL/blob/main/GoogLeNet.ipynb\" target=\"_parent\"><img src=\"https://colab.research.google.com/assets/colab-badge.svg\" alt=\"Open In Colab\"/></a>"
      ]
    },
    {
      "cell_type": "code",
      "source": [
        "import numpy as np\n",
        "import pandas as pd\n",
        "import matplotlib.pyplot as plt\n",
        "\n",
        "import torch\n",
        "from torch import nn\n",
        "from torch.utils.data import DataLoader, random_split\n",
        "import torchvision\n",
        "from torchvision.transforms import v2\n",
        "from torchvision.transforms.v2 import ToTensor\n",
        "from torchvision import datasets\n",
        "from torch.optim.lr_scheduler import ReduceLROnPlateau"
      ],
      "metadata": {
        "id": "PvbD-AQv_4aX",
        "trusted": true,
        "execution": {
          "iopub.status.busy": "2025-10-13T13:30:42.740726Z",
          "iopub.execute_input": "2025-10-13T13:30:42.741032Z",
          "iopub.status.idle": "2025-10-13T13:30:42.745283Z",
          "shell.execute_reply.started": "2025-10-13T13:30:42.741012Z",
          "shell.execute_reply": "2025-10-13T13:30:42.744540Z"
        }
      },
      "outputs": [],
      "execution_count": 17
    },
    {
      "cell_type": "code",
      "source": [
        "device = \"cuda\" if torch.cuda.is_available() else \"cpu\""
      ],
      "metadata": {
        "id": "GM7l7NitVbF8",
        "trusted": true,
        "execution": {
          "iopub.status.busy": "2025-10-13T13:30:42.747048Z",
          "iopub.execute_input": "2025-10-13T13:30:42.747611Z",
          "iopub.status.idle": "2025-10-13T13:30:42.766927Z",
          "shell.execute_reply.started": "2025-10-13T13:30:42.747588Z",
          "shell.execute_reply": "2025-10-13T13:30:42.766378Z"
        }
      },
      "outputs": [],
      "execution_count": 18
    },
    {
      "cell_type": "markdown",
      "source": [
        "## Data"
      ],
      "metadata": {
        "id": "m-NE9oXYDhI3"
      }
    },
    {
      "cell_type": "code",
      "source": [
        "transform_train = v2.Compose([\n",
        "    v2.RandomHorizontalFlip(p=0.5),\n",
        "    v2.RandomCrop(32, padding=4),\n",
        "    v2.ColorJitter(brightness=0.2, contrast=0.2, saturation=0.2),\n",
        "    v2.RandomRotation(15),\n",
        "    ToTensor(),\n",
        "    v2.Normalize(\n",
        "        mean=[0.5071, 0.4867, 0.4408],\n",
        "        std=[0.2675, 0.2565, 0.2761]\n",
        "    )\n",
        "])\n",
        "transform_test = v2.Compose([\n",
        "    ToTensor(),\n",
        "    v2.Normalize(\n",
        "        mean=[0.5071, 0.4867, 0.4408],\n",
        "        std=[0.2675, 0.2565, 0.2761]\n",
        "    )\n",
        "])\n",
        "trainset = datasets.CIFAR100(root = './data', train = True, download= True, transform = transform_train)\n",
        "testset = datasets.CIFAR100(root = './data', train = False, download= True, transform = transform_test)\n",
        "\n",
        "train_size = int(0.8* len(trainset))\n",
        "valid_size = len(trainset) - train_size\n",
        "trainset, validset = random_split(trainset, [train_size, valid_size])\n",
        "\n",
        "train_loader = DataLoader(trainset, batch_size = 64, shuffle = True)\n",
        "valid_loader = DataLoader(validset, batch_size = 64, shuffle = False)\n",
        "test_loader = DataLoader(testset, batch_size = 64, shuffle = False)"
      ],
      "metadata": {
        "id": "it6ux8yZDSIs",
        "trusted": true,
        "execution": {
          "iopub.status.busy": "2025-10-13T13:30:42.768027Z",
          "iopub.execute_input": "2025-10-13T13:30:42.768209Z",
          "iopub.status.idle": "2025-10-13T13:30:44.628799Z",
          "shell.execute_reply.started": "2025-10-13T13:30:42.768196Z",
          "shell.execute_reply": "2025-10-13T13:30:44.628038Z"
        }
      },
      "outputs": [],
      "execution_count": 19
    },
    {
      "cell_type": "markdown",
      "source": [
        "## GoogLeNet"
      ],
      "metadata": {
        "id": "x5XxzDgcHryI"
      }
    },
    {
      "cell_type": "markdown",
      "source": [
        "### Inception Block"
      ],
      "metadata": {
        "id": "J6Js1Tz7Of6G"
      }
    },
    {
      "cell_type": "code",
      "source": [
        "\n",
        "class InceptionBlock(nn.Module):\n",
        "    def __init__(self, in_chan, out1, out2, out3, out4):\n",
        "        super().__init__()\n",
        "        self.b1 = nn.Sequential(\n",
        "            nn.Conv2d(in_chan, out1, kernel_size=1),nn.BatchNorm2d(out1),nn.ReLU()\n",
        "        )\n",
        "        self.b2 = nn.Sequential(\n",
        "            nn.Conv2d(in_chan, out2[0], kernel_size=1),nn.BatchNorm2d(out2[0]),nn.ReLU(),\n",
        "            nn.Conv2d(out2[0], out2[1], kernel_size=3, padding=1),nn.BatchNorm2d(out2[1]),nn.ReLU()\n",
        "        )\n",
        "        self.b3 = nn.Sequential(\n",
        "            nn.Conv2d(in_chan, out3[0], kernel_size=1),nn.BatchNorm2d(out3[0]),nn.ReLU(),\n",
        "            nn.Conv2d(out3[0], out3[1], kernel_size=5, padding=2),nn.BatchNorm2d(out3[1]),nn.ReLU()\n",
        "        )\n",
        "        self.b4 = nn.Sequential(\n",
        "            nn.MaxPool2d(kernel_size=3, stride=1, padding=1),\n",
        "            nn.Conv2d(in_chan, out4, kernel_size=1),nn.BatchNorm2d(out4),nn.ReLU())\n",
        "\n",
        "        self.out_channel = out1 + out2[1] + out3[1] + out4\n",
        "\n",
        "    def forward(self, x):\n",
        "        x1 = self.b1(x)\n",
        "        x2 = self.b2(x)\n",
        "        x3 = self.b3(x)\n",
        "        x4 = self.b4(x)\n",
        "        return torch.cat((x1, x2, x3, x4), dim=1)\n"
      ],
      "metadata": {
        "id": "H2yncsTyHwXM",
        "trusted": true,
        "execution": {
          "iopub.status.busy": "2025-10-13T13:30:44.629642Z",
          "iopub.execute_input": "2025-10-13T13:30:44.629880Z",
          "iopub.status.idle": "2025-10-13T13:30:44.637281Z",
          "shell.execute_reply.started": "2025-10-13T13:30:44.629841Z",
          "shell.execute_reply": "2025-10-13T13:30:44.636575Z"
        }
      },
      "outputs": [],
      "execution_count": 20
    },
    {
      "cell_type": "markdown",
      "source": [
        "### Model"
      ],
      "metadata": {
        "id": "JL-kUCxBOkFJ"
      }
    },
    {
      "cell_type": "code",
      "source": [
        "class GoogLeNet(nn.Module):\n",
        "    def __init__(self, classes = 100, dropout_rate=0.3):\n",
        "        super().__init__()\n",
        "        self.b1 = nn.Sequential(\n",
        "            nn.Conv2d(3, 64, kernel_size=3, stride=1, padding=1),\n",
        "            nn.ReLU())\n",
        "        self.b2 = nn.Sequential(\n",
        "            nn.Conv2d(64, 64, kernel_size=1),  nn.ReLU(),\n",
        "            nn.Conv2d(64, 192, kernel_size=3, padding=1), nn.ReLU(),\n",
        "            nn.MaxPool2d(kernel_size=3, stride=2, padding=1))\n",
        "        self.b3 = nn.Sequential(InceptionBlock(192, 64, (96, 128), (16, 32), 32),\n",
        "                         InceptionBlock(256, 128, (128, 192), (32, 96), 64),\n",
        "                         nn.MaxPool2d(kernel_size=3, stride=2, padding=1))\n",
        "        ## num_output_channel = 256 + 480 = 736\n",
        "        self.b4 = nn.Sequential(InceptionBlock(480, 192, (96, 208), (16, 48), 64),\n",
        "                         InceptionBlock(512, 160, (112, 224), (24, 64), 64),\n",
        "                         InceptionBlock(512, 128, (128, 256), (24, 64), 64),\n",
        "                         InceptionBlock(512, 112, (144, 288), (32, 64), 64),\n",
        "                         InceptionBlock(528, 256, (160, 320), (32, 128), 128),\n",
        "                         nn.MaxPool2d(kernel_size=3, stride=2, padding=1))\n",
        "        self.b5 = nn.Sequential(InceptionBlock(832, 256, (160, 320), (32, 128), 128),\n",
        "                         InceptionBlock(832, 384, (192, 384), (48, 128), 128),\n",
        "                         nn.AdaptiveAvgPool2d((1,1)), nn.Flatten())\n",
        "        self.net = nn.Sequential(\n",
        "            self.b1, self.b2, self.b3, self.b4, self.b5,nn.Dropout(dropout_rate), nn.Linear(1024, classes)\n",
        "        )\n",
        "    def forward(self, x):\n",
        "        return self.net(x)"
      ],
      "metadata": {
        "id": "YvGGc031OmRa",
        "trusted": true,
        "execution": {
          "iopub.status.busy": "2025-10-13T13:30:44.638586Z",
          "iopub.execute_input": "2025-10-13T13:30:44.638945Z",
          "iopub.status.idle": "2025-10-13T13:30:44.665027Z",
          "shell.execute_reply.started": "2025-10-13T13:30:44.638927Z",
          "shell.execute_reply": "2025-10-13T13:30:44.664423Z"
        }
      },
      "outputs": [],
      "execution_count": 21
    },
    {
      "cell_type": "markdown",
      "source": [
        "## Train"
      ],
      "metadata": {
        "id": "bkjslxwkVRvv"
      }
    },
    {
      "cell_type": "code",
      "source": [
        "def train_dataloader_model(\n",
        "    model, train_loader, valid_loader, optim, loss_fn,\n",
        "    device=None, max_epochs=100, diff=1e-3, patience=5\n",
        "):\n",
        "    if device is None:\n",
        "        device = torch.device(\"cuda\" if torch.cuda.is_available() else \"cpu\")\n",
        "\n",
        "    model.to(device)\n",
        "\n",
        "    train_losses = []\n",
        "    valid_losses = []\n",
        "    valid_accuracies = []\n",
        "\n",
        "    valid_loss_min = float(\"inf\")\n",
        "    patience_counter = 0\n",
        "\n",
        "    for epoch in range(max_epochs):\n",
        "        # ----------------------------\n",
        "        # TRAINING PHASE\n",
        "        # ----------------------------\n",
        "        model.train()\n",
        "        running_train_loss = 0.0\n",
        "\n",
        "        for X_train, y_train in train_loader:\n",
        "            X_train, y_train = X_train.to(device), y_train.to(device)\n",
        "\n",
        "            optim.zero_grad()\n",
        "            y_pred = model(X_train)\n",
        "            loss = loss_fn(y_pred, y_train)\n",
        "            loss.backward()\n",
        "            optim.step()\n",
        "\n",
        "            running_train_loss += loss.item()\n",
        "\n",
        "        epoch_train_loss = running_train_loss / len(train_loader)\n",
        "        train_losses.append(epoch_train_loss)\n",
        "\n",
        "        # ----------------------------\n",
        "        # VALIDATION PHASE\n",
        "        # ----------------------------\n",
        "        model.eval()\n",
        "        running_valid_loss = 0.0\n",
        "        correct = 0\n",
        "        total = 0\n",
        "\n",
        "        with torch.no_grad():\n",
        "            for X_valid, y_valid in valid_loader:\n",
        "                X_valid, y_valid = X_valid.to(device), y_valid.to(device)\n",
        "                y_pred = model(X_valid)\n",
        "\n",
        "                # Compute validation loss\n",
        "                loss = loss_fn(y_pred, y_valid)\n",
        "                running_valid_loss += loss.item()\n",
        "\n",
        "                # Compute accuracy\n",
        "                _, predicted = torch.max(y_pred, 1)\n",
        "                correct += (predicted == y_valid).sum().item()\n",
        "                total += y_valid.size(0)\n",
        "\n",
        "        epoch_valid_loss = running_valid_loss / len(valid_loader)\n",
        "        epoch_valid_acc = correct / total\n",
        "\n",
        "        valid_losses.append(epoch_valid_loss)\n",
        "        valid_accuracies.append(epoch_valid_acc)\n",
        "\n",
        "        scheduler.step(epoch_valid_loss)\n",
        "        # ----------------------------\n",
        "        # EARLY STOPPING CHECKS\n",
        "        # ----------------------------\n",
        "        if epoch > 0 and abs(train_losses[-1] - train_losses[-2]) < diff:\n",
        "            print(f\"epoch {epoch}: loss diff < {diff} → early convergence.\")\n",
        "            break\n",
        "\n",
        "        if epoch_valid_loss < valid_loss_min - diff:\n",
        "            valid_loss_min = epoch_valid_loss\n",
        "            patience_counter = 0\n",
        "        else:\n",
        "            patience_counter += 1\n",
        "\n",
        "        print(\n",
        "            f\"Epoch [{epoch+1}/{max_epochs}] | \"\n",
        "            f\"Train Loss: {epoch_train_loss:.4f} | \"\n",
        "            f\"Valid Loss: {epoch_valid_loss:.4f} | \"\n",
        "            f\"Valid Acc: {epoch_valid_acc*100:.2f}%\"\n",
        "        )\n",
        "\n",
        "        if patience_counter >= patience:\n",
        "            print(f\"\\nEarly stopping: no improvement for {patience} epochs.\")\n",
        "            break\n",
        "\n",
        "    # ----------------------------\n",
        "    # PLOTTING BEFORE RETURN\n",
        "    # ----------------------------\n",
        "    epochs = range(1, len(train_losses) + 1)\n",
        "\n",
        "    plt.figure(figsize=(10, 5))\n",
        "    plt.subplot(1, 2, 1)\n",
        "    plt.plot(epochs, train_losses, label=\"Train Loss\")\n",
        "    plt.plot(epochs, valid_losses, label=\"Valid Loss\")\n",
        "    plt.xlabel(\"Epoch\")\n",
        "    plt.ylabel(\"Loss\")\n",
        "    plt.title(\"Training vs Validation Loss\")\n",
        "    plt.legend()\n",
        "\n",
        "    plt.subplot(1, 2, 2)\n",
        "    plt.plot(epochs, valid_accuracies, label=\"Valid Accuracy\", color=\"green\")\n",
        "    plt.xlabel(\"Epoch\")\n",
        "    plt.ylabel(\"Accuracy\")\n",
        "    plt.title(\"Validation Accuracy\")\n",
        "    plt.legend()\n",
        "\n",
        "    plt.tight_layout()\n",
        "    plt.show()\n",
        "\n",
        "    return train_losses, valid_losses, valid_accuracies\n"
      ],
      "metadata": {
        "id": "qq_m_nFvVTA3",
        "trusted": true,
        "execution": {
          "iopub.status.busy": "2025-10-13T13:30:44.665622Z",
          "iopub.execute_input": "2025-10-13T13:30:44.665790Z",
          "iopub.status.idle": "2025-10-13T13:30:44.688381Z",
          "shell.execute_reply.started": "2025-10-13T13:30:44.665776Z",
          "shell.execute_reply": "2025-10-13T13:30:44.687896Z"
        }
      },
      "outputs": [],
      "execution_count": 22
    },
    {
      "cell_type": "code",
      "source": [
        "model = GoogLeNet(dropout_rate = 0).to(device)\n",
        "optim = torch.optim.Adam(model.parameters(), lr=1e-3, weight_decay = 1e-4)\n",
        "loss_fn = nn.CrossEntropyLoss()\n",
        "scheduler = ReduceLROnPlateau(optim, mode='min', factor=0.5, patience=3)"
      ],
      "metadata": {
        "id": "wNkfK_DnVWIS",
        "trusted": true,
        "execution": {
          "iopub.status.busy": "2025-10-13T13:30:44.688996Z",
          "iopub.execute_input": "2025-10-13T13:30:44.689213Z",
          "iopub.status.idle": "2025-10-13T13:30:44.785831Z",
          "shell.execute_reply.started": "2025-10-13T13:30:44.689199Z",
          "shell.execute_reply": "2025-10-13T13:30:44.785268Z"
        }
      },
      "outputs": [],
      "execution_count": 23
    },
    {
      "cell_type": "code",
      "source": [
        "train_dataloader_model(model, train_loader, valid_loader, optim= optim, loss_fn= loss_fn)"
      ],
      "metadata": {
        "colab": {
          "base_uri": "https://localhost:8080/",
          "height": 1000
        },
        "id": "G8sfFhsLV8-J",
        "outputId": "7ece0f47-f13b-4691-ac4f-aa983f7d7446",
        "trusted": true,
        "execution": {
          "iopub.status.busy": "2025-10-13T13:30:44.786781Z",
          "iopub.execute_input": "2025-10-13T13:30:44.787054Z",
          "iopub.status.idle": "2025-10-13T14:21:32.897608Z",
          "shell.execute_reply.started": "2025-10-13T13:30:44.787035Z",
          "shell.execute_reply": "2025-10-13T14:21:32.896897Z"
        }
      },
      "outputs": [
        {
          "output_type": "stream",
          "name": "stdout",
          "text": [
            "Epoch [1/100] | Train Loss: 4.0121 | Valid Loss: 3.6880 | Valid Acc: 11.80%\n",
            "Epoch [2/100] | Train Loss: 3.4252 | Valid Loss: 3.4352 | Valid Acc: 17.33%\n",
            "Epoch [3/100] | Train Loss: 2.9588 | Valid Loss: 2.7818 | Valid Acc: 27.81%\n",
            "Epoch [4/100] | Train Loss: 2.5976 | Valid Loss: 2.7330 | Valid Acc: 29.71%\n",
            "Epoch [5/100] | Train Loss: 2.3436 | Valid Loss: 2.3129 | Valid Acc: 38.11%\n",
            "Epoch [6/100] | Train Loss: 2.1500 | Valid Loss: 2.2374 | Valid Acc: 39.55%\n",
            "Epoch [7/100] | Train Loss: 2.0047 | Valid Loss: 2.0857 | Valid Acc: 43.41%\n",
            "Epoch [8/100] | Train Loss: 1.8940 | Valid Loss: 2.0543 | Valid Acc: 44.90%\n",
            "Epoch [9/100] | Train Loss: 1.7815 | Valid Loss: 1.9870 | Valid Acc: 46.26%\n",
            "Epoch [10/100] | Train Loss: 1.7090 | Valid Loss: 1.8735 | Valid Acc: 48.60%\n",
            "Epoch [11/100] | Train Loss: 1.6274 | Valid Loss: 1.7831 | Valid Acc: 50.74%\n",
            "Epoch [12/100] | Train Loss: 1.5605 | Valid Loss: 1.7394 | Valid Acc: 51.42%\n",
            "Epoch [13/100] | Train Loss: 1.4859 | Valid Loss: 1.7687 | Valid Acc: 51.85%\n",
            "Epoch [14/100] | Train Loss: 1.4417 | Valid Loss: 1.6658 | Valid Acc: 53.90%\n",
            "Epoch [15/100] | Train Loss: 1.3921 | Valid Loss: 1.6970 | Valid Acc: 53.31%\n",
            "Epoch [16/100] | Train Loss: 1.3504 | Valid Loss: 1.6517 | Valid Acc: 54.97%\n",
            "Epoch [17/100] | Train Loss: 1.2994 | Valid Loss: 1.7320 | Valid Acc: 53.49%\n",
            "Epoch [18/100] | Train Loss: 1.2572 | Valid Loss: 1.6448 | Valid Acc: 55.17%\n",
            "Epoch [19/100] | Train Loss: 1.2220 | Valid Loss: 1.6141 | Valid Acc: 55.75%\n",
            "Epoch [20/100] | Train Loss: 1.1796 | Valid Loss: 1.6603 | Valid Acc: 55.06%\n",
            "Epoch [21/100] | Train Loss: 1.1557 | Valid Loss: 1.5810 | Valid Acc: 56.32%\n",
            "Epoch [22/100] | Train Loss: 1.1273 | Valid Loss: 1.6318 | Valid Acc: 55.90%\n",
            "Epoch [23/100] | Train Loss: 1.0913 | Valid Loss: 1.6158 | Valid Acc: 56.11%\n",
            "Epoch [24/100] | Train Loss: 1.0673 | Valid Loss: 1.5525 | Valid Acc: 58.51%\n",
            "Epoch [25/100] | Train Loss: 1.0352 | Valid Loss: 1.4864 | Valid Acc: 59.44%\n",
            "Epoch [26/100] | Train Loss: 1.0147 | Valid Loss: 1.5897 | Valid Acc: 57.64%\n",
            "Epoch [27/100] | Train Loss: 0.9910 | Valid Loss: 1.6110 | Valid Acc: 57.38%\n",
            "Epoch [28/100] | Train Loss: 0.9793 | Valid Loss: 1.5156 | Valid Acc: 59.13%\n",
            "Epoch [29/100] | Train Loss: 0.9453 | Valid Loss: 1.5452 | Valid Acc: 58.50%\n",
            "Epoch [30/100] | Train Loss: 0.7311 | Valid Loss: 1.3574 | Valid Acc: 63.58%\n",
            "Epoch [31/100] | Train Loss: 0.6788 | Valid Loss: 1.3484 | Valid Acc: 63.82%\n",
            "Epoch [32/100] | Train Loss: 0.6513 | Valid Loss: 1.3922 | Valid Acc: 62.89%\n",
            "Epoch [33/100] | Train Loss: 0.6300 | Valid Loss: 1.4102 | Valid Acc: 62.84%\n",
            "Epoch [34/100] | Train Loss: 0.6175 | Valid Loss: 1.3760 | Valid Acc: 64.18%\n",
            "Epoch [35/100] | Train Loss: 0.6031 | Valid Loss: 1.3866 | Valid Acc: 63.50%\n",
            "Epoch [36/100] | Train Loss: 0.4759 | Valid Loss: 1.2969 | Valid Acc: 65.55%\n",
            "Epoch [37/100] | Train Loss: 0.4364 | Valid Loss: 1.3181 | Valid Acc: 66.30%\n",
            "Epoch [38/100] | Train Loss: 0.4195 | Valid Loss: 1.3260 | Valid Acc: 66.10%\n",
            "Epoch [39/100] | Train Loss: 0.4053 | Valid Loss: 1.3272 | Valid Acc: 65.82%\n",
            "Epoch [40/100] | Train Loss: 0.3929 | Valid Loss: 1.3504 | Valid Acc: 65.53%\n",
            "Epoch [41/100] | Train Loss: 0.3335 | Valid Loss: 1.3187 | Valid Acc: 66.74%\n",
            "\n",
            "Early stopping: no improvement for 5 epochs.\n"
          ]
        },
        {
          "output_type": "display_data",
          "data": {
            "text/plain": [
              "<Figure size 1000x500 with 2 Axes>"
            ],
            "image/png": "[encoded data removed]"
          },
          "metadata": {}
        },
        {
          "output_type": "execute_result",
          "data": {
            "text/plain": [
              "([4.01213380241394,\n",
              "  3.425151879119873,\n",
              "  2.9587661209106444,\n",
              "  2.597649823760986,\n",
              "  2.34358671836853,\n",
              "  2.1499765731811524,\n",
              "  2.004698886871338,\n",
              "  1.8939741453170775,\n",
              "  1.7814500261306763,\n",
              "  1.7090195833206177,\n",
              "  1.6274091304779053,\n",
              "  1.560459429359436,\n",
              "  1.4859174911499022,\n",
              "  1.4416665818214416,\n",
              "  1.3920602160453797,\n",
              "  1.3504152693748475,\n",
              "  1.2993848464012145,\n",
              "  1.2572049198150634,\n",
              "  1.222049465560913,\n",
              "  1.1795701009750366,\n",
              "  1.1557246818542481,\n",
              "  1.1272636848449706,\n",
              "  1.0913495448112487,\n",
              "  1.0673358779907227,\n",
              "  1.035203722858429,\n",
              "  1.0147082186698912,\n",
              "  0.9910070657730102,\n",
              "  0.9793140138626099,\n",
              "  0.9452863595962524,\n",
              "  0.7311464196681976,\n",
              "  0.6788234162807465,\n",
              "  0.6512778550148011,\n",
              "  0.629998837852478,\n",
              "  0.6174675310611725,\n",
              "  0.603060425901413,\n",
              "  0.47586811785697936,\n",
              "  0.43643608818054197,\n",
              "  0.4195408370256424,\n",
              "  0.40534778995513915,\n",
              "  0.39287248158454896,\n",
              "  0.33348088810443877],\n",
              " [3.688006217312661,\n",
              "  3.435167619377185,\n",
              "  2.781799500155601,\n",
              "  2.732978072136071,\n",
              "  2.312851499600016,\n",
              "  2.2374321070446332,\n",
              "  2.0856849585369135,\n",
              "  2.0543190415497796,\n",
              "  1.9870454118509961,\n",
              "  1.873460573755252,\n",
              "  1.7831042511447979,\n",
              "  1.7393643005638366,\n",
              "  1.768688829081833,\n",
              "  1.6657996154894494,\n",
              "  1.696979078517598,\n",
              "  1.6516538691368832,\n",
              "  1.7319827512571007,\n",
              "  1.644806212680355,\n",
              "  1.6140733494120798,\n",
              "  1.6603003322698509,\n",
              "  1.5810349595015216,\n",
              "  1.631833646707474,\n",
              "  1.61575228469387,\n",
              "  1.5524528030377285,\n",
              "  1.4864258576350606,\n",
              "  1.5896521586521415,\n",
              "  1.611020386598672,\n",
              "  1.5156113334522126,\n",
              "  1.545179707229517,\n",
              "  1.3574348509691323,\n",
              "  1.3483936710722129,\n",
              "  1.3922058400834443,\n",
              "  1.410163605668742,\n",
              "  1.3759787507877228,\n",
              "  1.3865514913941646,\n",
              "  1.2968855276229276,\n",
              "  1.3180647883445593,\n",
              "  1.3259736291921822,\n",
              "  1.3272290210814992,\n",
              "  1.3503577542153133,\n",
              "  1.318662733788703],\n",
              " [0.118,\n",
              "  0.1733,\n",
              "  0.2781,\n",
              "  0.2971,\n",
              "  0.3811,\n",
              "  0.3955,\n",
              "  0.4341,\n",
              "  0.449,\n",
              "  0.4626,\n",
              "  0.486,\n",
              "  0.5074,\n",
              "  0.5142,\n",
              "  0.5185,\n",
              "  0.539,\n",
              "  0.5331,\n",
              "  0.5497,\n",
              "  0.5349,\n",
              "  0.5517,\n",
              "  0.5575,\n",
              "  0.5506,\n",
              "  0.5632,\n",
              "  0.559,\n",
              "  0.5611,\n",
              "  0.5851,\n",
              "  0.5944,\n",
              "  0.5764,\n",
              "  0.5738,\n",
              "  0.5913,\n",
              "  0.585,\n",
              "  0.6358,\n",
              "  0.6382,\n",
              "  0.6289,\n",
              "  0.6284,\n",
              "  0.6418,\n",
              "  0.635,\n",
              "  0.6555,\n",
              "  0.663,\n",
              "  0.661,\n",
              "  0.6582,\n",
              "  0.6553,\n",
              "  0.6674])"
            ]
          },
          "metadata": {},
          "execution_count": 24
        }
      ],
      "execution_count": 24
    },
    {
      "cell_type": "code",
      "source": [
        "model.eval()\n",
        "with torch.no_grad():\n",
        "    epoch_test_loss = 0.0\n",
        "    correct = 0\n",
        "    total = 0\n",
        "\n",
        "    for X_test, y_test in test_loader:\n",
        "        X_test, y_test = X_test.to(device), y_test.to(device)\n",
        "        y_test_pred = model(X_test)\n",
        "\n",
        "        # Compute loss\n",
        "        loss = loss_fn(y_test_pred, y_test)\n",
        "        epoch_test_loss += loss.item()\n",
        "\n",
        "        # Compute accuracy\n",
        "        _, predicted = torch.max(y_test_pred, 1)\n",
        "        correct += (predicted == y_test).sum().item()\n",
        "        total += y_test.size(0)\n",
        "\n",
        "    epoch_test_loss /= len(test_loader)\n",
        "    test_accuracy = correct / total * 100\n",
        "\n",
        "print(f\"Test Loss: {epoch_test_loss:.4f} | Test Accuracy: {test_accuracy:.2f}%\")"
      ],
      "metadata": {
        "colab": {
          "base_uri": "https://localhost:8080/"
        },
        "id": "47ZA4p2wotxO",
        "outputId": "dd995537-2380-4418-90bc-489d43118c7b",
        "trusted": true,
        "execution": {
          "iopub.status.busy": "2025-10-13T14:21:32.898449Z",
          "iopub.execute_input": "2025-10-13T14:21:32.898712Z",
          "iopub.status.idle": "2025-10-13T14:21:39.787717Z",
          "shell.execute_reply.started": "2025-10-13T14:21:32.898689Z",
          "shell.execute_reply": "2025-10-13T14:21:39.786956Z"
        }
      },
      "outputs": [
        {
          "output_type": "stream",
          "name": "stdout",
          "text": [
            "1.1855643148634845\n"
          ]
        }
      ],
      "execution_count": 25
    }
  ]
}