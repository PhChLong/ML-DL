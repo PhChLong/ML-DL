{
 "cells": [
  {
   "cell_type": "markdown",
   "id": "b6aa9b74",
   "metadata": {
    "id": "view-in-github",
    "papermill": {
     "duration": 0.003501,
     "end_time": "2025-10-15T10:11:42.135911",
     "exception": false,
     "start_time": "2025-10-15T10:11:42.132410",
     "status": "completed"
    },
    "tags": []
   },
   "source": [
    "<a href=\"https://colab.research.google.com/github/PhChLong/ML-DL/blob/main/resnet.ipynb\" target=\"_parent\"><img src=\"https://colab.research.google.com/assets/colab-badge.svg\" alt=\"Open In Colab\"/></a>"
   ]
  },
  {
   "cell_type": "code",
   "execution_count": 1,
   "id": "7e672154",
   "metadata": {
    "_cell_guid": "b1076dfc-b9ad-4769-8c92-a6c4dae69d19",
    "_uuid": "8f2839f25d086af736a60e9eeb907d3b93b6e0e5",
    "execution": {
     "iopub.execute_input": "2025-10-15T10:11:42.142227Z",
     "iopub.status.busy": "2025-10-15T10:11:42.142010Z",
     "iopub.status.idle": "2025-10-15T10:11:52.331892Z",
     "shell.execute_reply": "2025-10-15T10:11:52.331257Z"
    },
    "id": "TB_bKqrNx3CN",
    "papermill": {
     "duration": 10.194489,
     "end_time": "2025-10-15T10:11:52.333282",
     "exception": false,
     "start_time": "2025-10-15T10:11:42.138793",
     "status": "completed"
    },
    "tags": []
   },
   "outputs": [],
   "source": [
    "import numpy as np\n",
    "import pandas as pd\n",
    "import matplotlib.pyplot as plt\n",
    "import threading\n",
    "\n",
    "import torch\n",
    "from torch import nn\n",
    "from torch.utils.data import DataLoader, random_split\n",
    "import torchvision\n",
    "from torchvision.transforms import v2\n",
    "from torchvision.transforms.v2 import ToTensor\n",
    "from torchvision import datasets\n",
    "from torch.optim.lr_scheduler import ReduceLROnPlateau"
   ]
  },
  {
   "cell_type": "code",
   "execution_count": 2,
   "id": "0f128287",
   "metadata": {
    "execution": {
     "iopub.execute_input": "2025-10-15T10:11:52.340135Z",
     "iopub.status.busy": "2025-10-15T10:11:52.339817Z",
     "iopub.status.idle": "2025-10-15T10:11:52.452784Z",
     "shell.execute_reply": "2025-10-15T10:11:52.451945Z"
    },
    "id": "2m30JsX2x3CN",
    "outputId": "e7e565f6-4229-44f3-bcb9-826d87b9045c",
    "papermill": {
     "duration": 0.117666,
     "end_time": "2025-10-15T10:11:52.454073",
     "exception": false,
     "start_time": "2025-10-15T10:11:52.336407",
     "status": "completed"
    },
    "tags": []
   },
   "outputs": [
    {
     "name": "stdout",
     "output_type": "stream",
     "text": [
      "2\n",
      "GPU 0: Tesla T4\n",
      "GPU 1: Tesla T4\n"
     ]
    }
   ],
   "source": [
    "print(torch.cuda.device_count())\n",
    "for i in range(torch.cuda.device_count()):\n",
    "    print(f\"GPU {i}: {torch.cuda.get_device_name(i)}\")\n",
    "device1 = torch.device(\"cuda:0\")\n",
    "device2 = torch.device(\"cuda:1\")"
   ]
  },
  {
   "cell_type": "markdown",
   "id": "f01c9512",
   "metadata": {
    "papermill": {
     "duration": 0.002596,
     "end_time": "2025-10-15T10:11:52.459741",
     "exception": false,
     "start_time": "2025-10-15T10:11:52.457145",
     "status": "completed"
    },
    "tags": []
   },
   "source": [
    "# Data"
   ]
  },
  {
   "cell_type": "code",
   "execution_count": 3,
   "id": "ed0a7e03",
   "metadata": {
    "execution": {
     "iopub.execute_input": "2025-10-15T10:11:52.466095Z",
     "iopub.status.busy": "2025-10-15T10:11:52.465865Z",
     "iopub.status.idle": "2025-10-15T10:11:59.091253Z",
     "shell.execute_reply": "2025-10-15T10:11:59.090584Z"
    },
    "id": "xbOzaJBWx3CO",
    "outputId": "a440b909-fb41-4eb7-fedc-85954108090e",
    "papermill": {
     "duration": 6.630181,
     "end_time": "2025-10-15T10:11:59.092717",
     "exception": false,
     "start_time": "2025-10-15T10:11:52.462536",
     "status": "completed"
    },
    "tags": []
   },
   "outputs": [
    {
     "name": "stderr",
     "output_type": "stream",
     "text": [
      "/usr/local/lib/python3.11/dist-packages/torchvision/transforms/v2/_deprecated.py:42: UserWarning: The transform `ToTensor()` is deprecated and will be removed in a future release. Instead, please use `v2.Compose([v2.ToImage(), v2.ToDtype(torch.float32, scale=True)])`.Output is equivalent up to float precision.\n",
      "  warnings.warn(\n",
      "100%|██████████| 169M/169M [00:03<00:00, 54.4MB/s]\n"
     ]
    }
   ],
   "source": [
    "transform_train = v2.Compose([\n",
    "    v2.RandomHorizontalFlip(p=0.5),\n",
    "    v2.RandomCrop(32, padding=4),\n",
    "    v2.ColorJitter(brightness=0.2, contrast=0.2, saturation=0.2),\n",
    "    v2.RandomRotation(15),\n",
    "    ToTensor(),\n",
    "    v2.Normalize(\n",
    "        mean=[0.5071, 0.4867, 0.4408],\n",
    "        std=[0.2675, 0.2565, 0.2761]\n",
    "    )\n",
    "])\n",
    "transform_test = v2.Compose([\n",
    "    ToTensor(),\n",
    "    v2.Normalize(\n",
    "        mean=[0.5071, 0.4867, 0.4408],\n",
    "        std=[0.2675, 0.2565, 0.2761]\n",
    "    )\n",
    "])\n",
    "trainset = datasets.CIFAR100(root = './data', train = True, download= True, transform = transform_train)\n",
    "testset = datasets.CIFAR100(root = './data', train = False, download= True, transform = transform_test)\n",
    "\n",
    "train_size = int(0.85 * len(trainset))\n",
    "valid_size = len(trainset) - train_size\n",
    "trainset, validset = random_split(trainset, [train_size, valid_size])\n",
    "\n",
    "train_loader = DataLoader(trainset, batch_size = 64, shuffle = True)\n",
    "valid_loader = DataLoader(validset, batch_size = 64, shuffle = False)\n",
    "test_loader = DataLoader(testset, batch_size = 64, shuffle = False)"
   ]
  },
  {
   "cell_type": "markdown",
   "id": "945f3ff9",
   "metadata": {
    "papermill": {
     "duration": 0.00398,
     "end_time": "2025-10-15T10:11:59.101503",
     "exception": false,
     "start_time": "2025-10-15T10:11:59.097523",
     "status": "completed"
    },
    "tags": []
   },
   "source": [
    "# Train function"
   ]
  },
  {
   "cell_type": "code",
   "execution_count": 4,
   "id": "68e0c6b8",
   "metadata": {
    "execution": {
     "iopub.execute_input": "2025-10-15T10:11:59.111075Z",
     "iopub.status.busy": "2025-10-15T10:11:59.110820Z",
     "iopub.status.idle": "2025-10-15T10:11:59.122446Z",
     "shell.execute_reply": "2025-10-15T10:11:59.121725Z"
    },
    "id": "1xpEM6gMx3CO",
    "papermill": {
     "duration": 0.017812,
     "end_time": "2025-10-15T10:11:59.123512",
     "exception": false,
     "start_time": "2025-10-15T10:11:59.105700",
     "status": "completed"
    },
    "tags": []
   },
   "outputs": [],
   "source": [
    "def train_dataloader_model(\n",
    "    model, train_loader, valid_loader, optim, loss_fn,\n",
    "    device=None, max_epochs=100, diff=1e-4, patience=5, scheduler = None, name = None\n",
    "):\n",
    "    if device is None:\n",
    "        device = torch.device(\"cuda\" if torch.cuda.is_available() else \"cpu\")\n",
    "\n",
    "    model.to(device)\n",
    "\n",
    "    train_losses = []\n",
    "    valid_losses = []\n",
    "    valid_accuracies = []\n",
    "\n",
    "    valid_loss_min = float(\"inf\")\n",
    "    patience_counter = 0\n",
    "\n",
    "    for epoch in range(max_epochs):\n",
    "        # ----------------------------\n",
    "        # TRAINING PHASE\n",
    "        # ----------------------------\n",
    "        model.train()\n",
    "        running_train_loss = 0.0\n",
    "\n",
    "        for X_train, y_train in train_loader:\n",
    "            X_train, y_train = X_train.to(device), y_train.to(device)\n",
    "\n",
    "            optim.zero_grad()\n",
    "            y_pred = model(X_train)\n",
    "            loss = loss_fn(y_pred, y_train)\n",
    "            loss.backward()\n",
    "            optim.step()\n",
    "\n",
    "            running_train_loss += loss.item()\n",
    "\n",
    "        epoch_train_loss = running_train_loss / len(train_loader)\n",
    "        train_losses.append(epoch_train_loss)\n",
    "\n",
    "        # ----------------------------\n",
    "        # VALIDATION PHASE\n",
    "        # ----------------------------\n",
    "        model.eval()\n",
    "        running_valid_loss = 0.0\n",
    "        correct = 0\n",
    "        total = 0\n",
    "\n",
    "        with torch.no_grad():\n",
    "            for X_valid, y_valid in valid_loader:\n",
    "                X_valid, y_valid = X_valid.to(device), y_valid.to(device)\n",
    "                y_pred = model(X_valid)\n",
    "\n",
    "                # Compute validation loss\n",
    "                loss = loss_fn(y_pred, y_valid)\n",
    "                running_valid_loss += loss.item()\n",
    "\n",
    "                # Compute accuracy\n",
    "                _, predicted = torch.max(y_pred, 1)\n",
    "                correct += (predicted == y_valid).sum().item()\n",
    "                total += y_valid.size(0)\n",
    "\n",
    "        epoch_valid_loss = running_valid_loss / len(valid_loader)\n",
    "        epoch_valid_acc = correct / total\n",
    "\n",
    "        valid_losses.append(epoch_valid_loss)\n",
    "        valid_accuracies.append(epoch_valid_acc)\n",
    "\n",
    "        scheduler.step(epoch_valid_loss)\n",
    "        # ----------------------------\n",
    "        # EARLY STOPPING CHECKS\n",
    "        # ----------------------------\n",
    "        if epoch > 0 and abs(train_losses[-1] - train_losses[-2]) < diff:\n",
    "            print(f\"{name}|epoch {epoch}: loss diff < {diff} → early convergence.\")\n",
    "            break\n",
    "\n",
    "        if epoch_valid_loss < valid_loss_min - diff:\n",
    "            valid_loss_min = epoch_valid_loss\n",
    "            patience_counter = 0\n",
    "        else:\n",
    "            patience_counter += 1\n",
    "        if epoch %5 ==0:\n",
    "            print(\n",
    "                f\"{name}|Epoch [{epoch+1}/{max_epochs}] | \"\n",
    "                f\"Train Loss: {epoch_train_loss:.4f} | \"\n",
    "                f\"Valid Loss: {epoch_valid_loss:.4f} | \"\n",
    "                f\"Valid Acc: {epoch_valid_acc*100:.2f}%\"\n",
    "            )\n",
    "\n",
    "        if patience_counter >= patience:\n",
    "            print(f\"\\nEarly stopping: no improvement for {patience} epochs.\")\n",
    "            break\n",
    "\n",
    "    # ----------------------------\n",
    "    # PLOTTING BEFORE RETURN\n",
    "    # ----------------------------\n",
    "    epochs = range(1, len(train_losses) + 1)\n",
    "\n",
    "    plt.figure(figsize=(10, 5))\n",
    "    plt.subplot(1, 2, 1)\n",
    "    plt.plot(epochs, train_losses, label=\"Train Loss\")\n",
    "    plt.plot(epochs, valid_losses, label=\"Valid Loss\")\n",
    "    plt.xlabel(\"Epoch\")\n",
    "    plt.ylabel(\"Loss\")\n",
    "    plt.title(\"Training vs Validation Loss\")\n",
    "    plt.legend()\n",
    "\n",
    "    plt.subplot(1, 2, 2)\n",
    "    plt.plot(epochs, valid_accuracies, label=\"Valid Accuracy\", color=\"green\")\n",
    "    plt.xlabel(\"Epoch\")\n",
    "    plt.ylabel(\"Accuracy\")\n",
    "    plt.title(\"Validation Accuracy\")\n",
    "    plt.legend()\n",
    "\n",
    "    plt.tight_layout()\n",
    "    plt.show()\n",
    "    \n",
    "    return train_losses, valid_losses, valid_accuracies"
   ]
  },
  {
   "cell_type": "markdown",
   "id": "3c454170",
   "metadata": {
    "papermill": {
     "duration": 0.003719,
     "end_time": "2025-10-15T10:11:59.131561",
     "exception": false,
     "start_time": "2025-10-15T10:11:59.127842",
     "status": "completed"
    },
    "tags": []
   },
   "source": [
    "# ResNet"
   ]
  },
  {
   "cell_type": "markdown",
   "id": "b2a8db35",
   "metadata": {
    "papermill": {
     "duration": 0.003863,
     "end_time": "2025-10-15T10:11:59.139269",
     "exception": false,
     "start_time": "2025-10-15T10:11:59.135406",
     "status": "completed"
    },
    "tags": []
   },
   "source": [
    "## Model"
   ]
  },
  {
   "cell_type": "code",
   "execution_count": 5,
   "id": "98d49c48",
   "metadata": {
    "execution": {
     "iopub.execute_input": "2025-10-15T10:11:59.148465Z",
     "iopub.status.busy": "2025-10-15T10:11:59.147925Z",
     "iopub.status.idle": "2025-10-15T10:11:59.158161Z",
     "shell.execute_reply": "2025-10-15T10:11:59.157399Z"
    },
    "id": "2J_crzUBx3CP",
    "papermill": {
     "duration": 0.016156,
     "end_time": "2025-10-15T10:11:59.159219",
     "exception": false,
     "start_time": "2025-10-15T10:11:59.143063",
     "status": "completed"
    },
    "tags": []
   },
   "outputs": [],
   "source": [
    "class Residual(nn.Module):\n",
    "    def __init__(self, in_channels, out_channels, use_1x1conv=False, strides=1):\n",
    "        super().__init__()\n",
    "        self.conv1 = nn.Conv2d(in_channels, out_channels, kernel_size=3,\n",
    "                               padding=1, stride=strides)\n",
    "        self.conv2 = nn.Conv2d(out_channels, out_channels, kernel_size=3,\n",
    "                               padding=1)\n",
    "        if use_1x1conv:\n",
    "            self.conv3 = nn.Conv2d(in_channels, out_channels, kernel_size=1,\n",
    "                                   stride=strides)\n",
    "        else:\n",
    "            self.conv3 = None\n",
    "        self.bn1 = nn.BatchNorm2d(out_channels)\n",
    "        self.bn2 = nn.BatchNorm2d(out_channels)\n",
    "        self.relu = nn.ReLU()\n",
    "\n",
    "    def forward(self, X):\n",
    "        Y = self.relu(self.bn1(self.conv1(X)))\n",
    "        Y = self.bn2(self.conv2(Y))\n",
    "        if self.conv3:\n",
    "            X = self.conv3(X)\n",
    "        Y += X\n",
    "        return self.relu(Y)\n",
    "class ResNet(nn.Module):\n",
    "    def block(self, num_residuals, in_channel, out_channels, first_block=False):\n",
    "        blk = []\n",
    "        for i in range(num_residuals):\n",
    "            if i == 0 and not first_block:\n",
    "                blk.append(Residual(in_channel, out_channels, use_1x1conv=True, strides=2))\n",
    "            else:\n",
    "                blk.append(Residual(out_channels, out_channels))\n",
    "            in_channel = out_channels\n",
    "        return nn.Sequential(*blk)\n",
    "\n",
    "    def __init__(self, arch, num_classes=100):\n",
    "        super(ResNet, self).__init__()\n",
    "        self.b1 = nn.Sequential(\n",
    "            nn.Conv2d(3, 64, kernel_size=3, padding=1),\n",
    "            nn.BatchNorm2d(64), nn.ReLU(),\n",
    "            nn.MaxPool2d(kernel_size=3, stride=2, padding=1))\n",
    "        self.net = nn.Sequential(self.b1)\n",
    "        for i, b in enumerate(arch):\n",
    "            self.net.add_module(f'b{i+2}', self.block(*b, first_block=(i==0)))\n",
    "        self.net.add_module('last', nn.Sequential(\n",
    "            nn.AdaptiveAvgPool2d((1, 1)), nn.Flatten(),\n",
    "            nn.Linear(512, num_classes)))\n",
    "    def forward(self, x):\n",
    "        return self.net(x)\n",
    "class ResNet34(ResNet):\n",
    "    def __init__(self, num_classes=100):\n",
    "        super().__init__(((3, 64, 64), (4, 64, 128), (6, 128, 256), (3, 256, 512))\n",
    "                         , num_classes)"
   ]
  },
  {
   "cell_type": "markdown",
   "id": "c063f1d5",
   "metadata": {
    "papermill": {
     "duration": 0.003922,
     "end_time": "2025-10-15T10:11:59.167060",
     "exception": false,
     "start_time": "2025-10-15T10:11:59.163138",
     "status": "completed"
    },
    "tags": []
   },
   "source": [
    "# SE-ResNet"
   ]
  },
  {
   "cell_type": "code",
   "execution_count": 6,
   "id": "b953a016",
   "metadata": {
    "execution": {
     "iopub.execute_input": "2025-10-15T10:11:59.176045Z",
     "iopub.status.busy": "2025-10-15T10:11:59.175447Z",
     "iopub.status.idle": "2025-10-15T10:11:59.183578Z",
     "shell.execute_reply": "2025-10-15T10:11:59.183034Z"
    },
    "papermill": {
     "duration": 0.013715,
     "end_time": "2025-10-15T10:11:59.184659",
     "exception": false,
     "start_time": "2025-10-15T10:11:59.170944",
     "status": "completed"
    },
    "tags": []
   },
   "outputs": [],
   "source": [
    "class SEBlock(nn.Module):\n",
    "    def __init__(self, num_channels, r = 16):\n",
    "        super().__init__()\n",
    "        self.GlobalPooling = nn.AdaptiveAvgPool2d((1, 1))\n",
    "        self.fc1 = nn.Linear(num_channels, num_channels//r)\n",
    "        self.fc2 = nn.Linear(num_channels//r, num_channels)\n",
    "        self.net = nn.Sequential(\n",
    "            self.GlobalPooling,nn.Flatten(), self.fc1, nn.ReLU(), self.fc2, nn.Sigmoid()\n",
    "        )\n",
    "    def forward(self, x):\n",
    "        y = self.net(x)\n",
    "        y = y[:, :, None, None]\n",
    "        return x * y\n",
    "class Residual_with_SEBlock(Residual):\n",
    "    def __init__(self, in_channels, out_channels, use_1x1conv=False, strides=1):\n",
    "        super().__init__(in_channels, out_channels, use_1x1conv, strides)\n",
    "        self.se = SEBlock(out_channels)\n",
    "    def forward(self, X):\n",
    "        Y = self.relu(self.bn1(self.conv1(X)))\n",
    "        Y = self.bn2(self.conv2(Y))\n",
    "        if self.conv3:\n",
    "            X = self.conv3(X)\n",
    "        Y = self.se(Y)\n",
    "        Y += X\n",
    "        return self.relu(Y)\n",
    "class SE_ResNet(ResNet):\n",
    "    def block(self, num_residuals, in_channel, out_channels, first_block=False):\n",
    "        blk = []\n",
    "        for i in range(num_residuals):\n",
    "            if i == 0 and not first_block:\n",
    "                blk.append(Residual_with_SEBlock(in_channel, out_channels, use_1x1conv=True, strides=2))\n",
    "            else:\n",
    "                blk.append(Residual_with_SEBlock(out_channels, out_channels))\n",
    "            in_channel = out_channels\n",
    "        return nn.Sequential(*blk)\n",
    "\n",
    "    def __init__(self, arch, num_classes=100):\n",
    "        super().__init__(arch, num_classes)\n",
    "class SE_ResNet34(SE_ResNet):\n",
    "    def __init__(self, num_classes=100):\n",
    "        super().__init__(((3, 64, 64), (4, 64, 128), (6, 128, 256), (3, 256, 512))\n",
    "                         , num_classes)"
   ]
  },
  {
   "cell_type": "markdown",
   "id": "62856aa3",
   "metadata": {
    "papermill": {
     "duration": 0.004029,
     "end_time": "2025-10-15T10:11:59.192965",
     "exception": false,
     "start_time": "2025-10-15T10:11:59.188936",
     "status": "completed"
    },
    "tags": []
   },
   "source": [
    "## Train model"
   ]
  },
  {
   "cell_type": "code",
   "execution_count": 7,
   "id": "95b715bd",
   "metadata": {
    "execution": {
     "iopub.execute_input": "2025-10-15T10:11:59.201610Z",
     "iopub.status.busy": "2025-10-15T10:11:59.201421Z",
     "iopub.status.idle": "2025-10-15T10:11:59.870583Z",
     "shell.execute_reply": "2025-10-15T10:11:59.869914Z"
    },
    "id": "m9QBF0IZx3CP",
    "papermill": {
     "duration": 0.675143,
     "end_time": "2025-10-15T10:11:59.871991",
     "exception": false,
     "start_time": "2025-10-15T10:11:59.196848",
     "status": "completed"
    },
    "tags": []
   },
   "outputs": [],
   "source": [
    "model1 = ResNet34().to(device1)\n",
    "optim1 = torch.optim.Adam(model1.parameters(), lr=1e-3, weight_decay = 1e-4)\n",
    "model2 = SE_ResNet34().to(device2)\n",
    "optim2 = torch.optim.Adam(model2.parameters(), lr=1e-3, weight_decay = 1e-4)\n",
    "loss_fn = nn.CrossEntropyLoss()\n",
    "scheduler1 = ReduceLROnPlateau(optim1, mode='min', factor=0.5, patience=3)\n",
    "scheduler2 = ReduceLROnPlateau(optim2, mode='min', factor=0.5, patience=3)"
   ]
  },
  {
   "cell_type": "code",
   "execution_count": 8,
   "id": "53a2da34",
   "metadata": {
    "execution": {
     "iopub.execute_input": "2025-10-15T10:11:59.881396Z",
     "iopub.status.busy": "2025-10-15T10:11:59.881160Z",
     "iopub.status.idle": "2025-10-15T10:11:59.886842Z",
     "shell.execute_reply": "2025-10-15T10:11:59.885927Z"
    },
    "papermill": {
     "duration": 0.011383,
     "end_time": "2025-10-15T10:11:59.887966",
     "exception": false,
     "start_time": "2025-10-15T10:11:59.876583",
     "status": "completed"
    },
    "tags": []
   },
   "outputs": [
    {
     "name": "stdout",
     "output_type": "stream",
     "text": [
      "Total parameters of model1: 21,335,012\n",
      "Total parameters of model2: 21,496,208\n"
     ]
    }
   ],
   "source": [
    "total_params1 = sum(p.numel() for p in model1.parameters())\n",
    "print(f\"Total parameters of model1: {total_params1:,}\")\n",
    "total_params2 = sum(p.numel() for p in model2.parameters())\n",
    "print(f\"Total parameters of model2: {total_params2:,}\")"
   ]
  },
  {
   "cell_type": "code",
   "execution_count": 9,
   "id": "d31ea72b",
   "metadata": {
    "execution": {
     "iopub.execute_input": "2025-10-15T10:11:59.896878Z",
     "iopub.status.busy": "2025-10-15T10:11:59.896654Z",
     "iopub.status.idle": "2025-10-15T11:52:38.338583Z",
     "shell.execute_reply": "2025-10-15T11:52:38.337807Z"
    },
    "papermill": {
     "duration": 6038.447703,
     "end_time": "2025-10-15T11:52:38.339788",
     "exception": false,
     "start_time": "2025-10-15T10:11:59.892085",
     "status": "completed"
    },
    "tags": []
   },
   "outputs": [
    {
     "name": "stdout",
     "output_type": "stream",
     "text": [
      "model1|Epoch [1/100] | Train Loss: 4.1467 | Valid Loss: 3.8881 | Valid Acc: 8.80%\n",
      "model2|Epoch [1/100] | Train Loss: 4.0787 | Valid Loss: 3.7435 | Valid Acc: 11.59%\n",
      "model1|Epoch [6/100] | Train Loss: 2.7557 | Valid Loss: 2.7837 | Valid Acc: 29.87%\n",
      "model2|Epoch [6/100] | Train Loss: 2.6825 | Valid Loss: 2.6762 | Valid Acc: 31.59%\n",
      "model1|Epoch [11/100] | Train Loss: 2.1733 | Valid Loss: 2.2555 | Valid Acc: 40.52%\n",
      "model2|Epoch [11/100] | Train Loss: 2.0772 | Valid Loss: 2.1382 | Valid Acc: 43.47%\n",
      "model1|Epoch [16/100] | Train Loss: 1.8267 | Valid Loss: 2.0465 | Valid Acc: 45.16%\n",
      "model2|Epoch [16/100] | Train Loss: 1.7438 | Valid Loss: 1.9592 | Valid Acc: 47.53%\n",
      "model1|Epoch [21/100] | Train Loss: 1.6165 | Valid Loss: 1.9248 | Valid Acc: 49.25%\n",
      "model2|Epoch [21/100] | Train Loss: 1.5140 | Valid Loss: 1.9169 | Valid Acc: 48.53%\n",
      "model1|Epoch [26/100] | Train Loss: 1.4537 | Valid Loss: 1.8214 | Valid Acc: 50.81%\n",
      "model2|Epoch [26/100] | Train Loss: 1.1547 | Valid Loss: 1.6340 | Valid Acc: 55.37%\n",
      "model1|Epoch [31/100] | Train Loss: 1.3434 | Valid Loss: 1.7794 | Valid Acc: 52.24%\n",
      "model2|Epoch [31/100] | Train Loss: 0.9980 | Valid Loss: 1.6278 | Valid Acc: 56.37%\n",
      "model1|Epoch [36/100] | Train Loss: 0.9840 | Valid Loss: 1.5907 | Valid Acc: 57.45%\n",
      "model2|Epoch [36/100] | Train Loss: 0.7540 | Valid Loss: 1.5634 | Valid Acc: 59.08%\n",
      "model1|Epoch [41/100] | Train Loss: 0.7782 | Valid Loss: 1.5521 | Valid Acc: 59.13%\n",
      "model2|Epoch [41/100] | Train Loss: 0.5942 | Valid Loss: 1.5435 | Valid Acc: 60.53%\n",
      "model1|Epoch [46/100] | Train Loss: 0.5960 | Valid Loss: 1.5702 | Valid Acc: 59.87%\n",
      "\n",
      "Early stopping: no improvement for 5 epochs.\n"
     ]
    },
    {
     "data": {
      "image/png": "[encoded data removed]",
      "text/plain": [
       "<Figure size 1000x500 with 2 Axes>"
      ]
     },
     "metadata": {},
     "output_type": "display_data"
    },
    {
     "name": "stdout",
     "output_type": "stream",
     "text": [
      "model2|Epoch [46/100] | Train Loss: 0.4845 | Valid Loss: 1.6024 | Valid Acc: 60.40%\n",
      "\n",
      "Early stopping: no improvement for 5 epochs.\n"
     ]
    },
    {
     "data": {
      "image/png": "[encoded data removed]",
      "text/plain": [
       "<Figure size 1000x500 with 2 Axes>"
      ]
     },
     "metadata": {},
     "output_type": "display_data"
    }
   ],
   "source": [
    "t1 = threading.Thread(\n",
    "    target=train_dataloader_model,\n",
    "    args=(model1, train_loader, valid_loader),\n",
    "    kwargs={\n",
    "        'optim': optim1,\n",
    "        'loss_fn': loss_fn,\n",
    "        'scheduler': scheduler1,\n",
    "        'name': 'model1'\n",
    "    }\n",
    ")\n",
    "\n",
    "t2 = threading.Thread(\n",
    "    target=train_dataloader_model,\n",
    "    args=(model2, train_loader, valid_loader),\n",
    "    kwargs={\n",
    "        'optim': optim2,\n",
    "        'loss_fn': loss_fn,\n",
    "        'scheduler': scheduler2,\n",
    "        'name': 'model2'\n",
    "    }\n",
    ")\n",
    "t1.start()\n",
    "t2.start()\n",
    "\n",
    "t1.join()\n",
    "t2.join()"
   ]
  },
  {
   "cell_type": "code",
   "execution_count": 10,
   "id": "937483b5",
   "metadata": {
    "execution": {
     "iopub.execute_input": "2025-10-15T11:52:38.354381Z",
     "iopub.status.busy": "2025-10-15T11:52:38.353771Z",
     "iopub.status.idle": "2025-10-15T11:52:42.449573Z",
     "shell.execute_reply": "2025-10-15T11:52:42.448689Z"
    },
    "id": "T6-3SHvnyyeE",
    "outputId": "397207b9-d325-4347-e17d-03b4e9d579e1",
    "papermill": {
     "duration": 4.104358,
     "end_time": "2025-10-15T11:52:42.450927",
     "exception": false,
     "start_time": "2025-10-15T11:52:38.346569",
     "status": "completed"
    },
    "tags": []
   },
   "outputs": [
    {
     "name": "stdout",
     "output_type": "stream",
     "text": [
      "Test Loss: 1.4612 | Test Accuracy: 63.36%\n"
     ]
    }
   ],
   "source": [
    "model1.eval()\n",
    "with torch.no_grad():\n",
    "    epoch_test_loss = 0.0\n",
    "    correct = 0\n",
    "    total = 0\n",
    "\n",
    "    for X_test, y_test in test_loader:\n",
    "        X_test, y_test = X_test.to(device1), y_test.to(device1)\n",
    "        y_test_pred = model1(X_test)\n",
    "\n",
    "        # Compute loss\n",
    "        loss = loss_fn(y_test_pred, y_test)\n",
    "        epoch_test_loss += loss.item()\n",
    "\n",
    "        # Compute accuracy\n",
    "        _, predicted = torch.max(y_test_pred, 1)\n",
    "        correct += (predicted == y_test).sum().item()\n",
    "        total += y_test.size(0)\n",
    "\n",
    "    epoch_test_loss /= len(test_loader)\n",
    "    test_accuracy = correct / total * 100\n",
    "\n",
    "print(f\"Test Loss: {epoch_test_loss:.4f} | Test Accuracy: {test_accuracy:.2f}%\")"
   ]
  },
  {
   "cell_type": "code",
   "execution_count": 11,
   "id": "f8acb981",
   "metadata": {
    "execution": {
     "iopub.execute_input": "2025-10-15T11:52:42.465297Z",
     "iopub.status.busy": "2025-10-15T11:52:42.464781Z",
     "iopub.status.idle": "2025-10-15T11:52:46.564881Z",
     "shell.execute_reply": "2025-10-15T11:52:46.564185Z"
    },
    "papermill": {
     "duration": 4.108263,
     "end_time": "2025-10-15T11:52:46.565976",
     "exception": false,
     "start_time": "2025-10-15T11:52:42.457713",
     "status": "completed"
    },
    "tags": []
   },
   "outputs": [
    {
     "name": "stdout",
     "output_type": "stream",
     "text": [
      "Test Loss: 1.4830 | Test Accuracy: 64.02%\n"
     ]
    }
   ],
   "source": [
    "model2.eval()\n",
    "test_loss = 0.0\n",
    "correct = 0\n",
    "total = 0\n",
    "\n",
    "with torch.no_grad():\n",
    "    for X_test, y_test in test_loader:\n",
    "        X_test, y_test = X_test.to(device1), y_test.to(device1)\n",
    "        y_pred = model2(X_test)\n",
    "\n",
    "        # Compute batch loss\n",
    "        loss = loss_fn(y_pred, y_test)\n",
    "        test_loss += loss.item()\n",
    "\n",
    "        # Compute batch accuracy\n",
    "        _, predicted = torch.max(y_pred, 1)\n",
    "        correct += (predicted == y_test).sum().item()\n",
    "        total += y_test.size(0)\n",
    "\n",
    "# Average loss per batch\n",
    "test_loss /= len(test_loader)\n",
    "test_acc = correct / total * 100\n",
    "\n",
    "print(f\"Test Loss: {test_loss:.4f} | Test Accuracy: {test_acc:.2f}%\")\n"
   ]
  }
 ],
 "metadata": {
  "accelerator": "GPU",
  "colab": {
   "gpuType": "T4",
   "include_colab_link": true,
   "provenance": []
  },
  "kaggle": {
   "accelerator": "nvidiaTeslaT4",
   "dataSources": [],
   "dockerImageVersionId": 31153,
   "isGpuEnabled": true,
   "isInternetEnabled": true,
   "language": "python",
   "sourceType": "notebook"
  },
  "kernelspec": {
   "display_name": "Python 3",
   "language": "python",
   "name": "python3"
  },
  "language_info": {
   "codemirror_mode": {
    "name": "ipython",
    "version": 3
   },
   "file_extension": ".py",
   "mimetype": "text/x-python",
   "name": "python",
   "nbconvert_exporter": "python",
   "pygments_lexer": "ipython3",
   "version": "3.11.13"
  },
  "papermill": {
   "default_parameters": {},
   "duration": 6069.635031,
   "end_time": "2025-10-15T11:52:48.193189",
   "environment_variables": {},
   "exception": null,
   "input_path": "__notebook__.ipynb",
   "output_path": "__notebook__.ipynb",
   "parameters": {},
   "start_time": "2025-10-15T10:11:38.558158",
   "version": "2.6.0"
  }
 },
 "nbformat": 4,
 "nbformat_minor": 5
}
