{
 "cells": [
  {
   "cell_type": "code",
   "execution_count": 1,
   "id": "8442329c",
   "metadata": {
    "_cell_guid": "b1076dfc-b9ad-4769-8c92-a6c4dae69d19",
    "_uuid": "8f2839f25d086af736a60e9eeb907d3b93b6e0e5",
    "execution": {
     "iopub.execute_input": "2025-10-14T00:18:24.063830Z",
     "iopub.status.busy": "2025-10-14T00:18:24.063610Z",
     "iopub.status.idle": "2025-10-14T00:18:39.547229Z",
     "shell.execute_reply": "2025-10-14T00:18:39.546317Z"
    },
    "papermill": {
     "duration": 15.489411,
     "end_time": "2025-10-14T00:18:39.548934",
     "exception": false,
     "start_time": "2025-10-14T00:18:24.059523",
     "status": "completed"
    },
    "tags": []
   },
   "outputs": [],
   "source": [
    "import numpy as np\n",
    "import pandas as pd\n",
    "import matplotlib.pyplot as plt\n",
    "\n",
    "import torch\n",
    "from torch import nn\n",
    "from torch.utils.data import DataLoader, random_split\n",
    "import torchvision\n",
    "from torchvision.transforms import v2\n",
    "from torchvision.transforms.v2 import ToTensor\n",
    "from torchvision import datasets\n",
    "from torch.optim.lr_scheduler import ReduceLROnPlateau"
   ]
  },
  {
   "cell_type": "code",
   "execution_count": 2,
   "id": "49dc056d",
   "metadata": {
    "execution": {
     "iopub.execute_input": "2025-10-14T00:18:39.554637Z",
     "iopub.status.busy": "2025-10-14T00:18:39.554336Z",
     "iopub.status.idle": "2025-10-14T00:18:39.649624Z",
     "shell.execute_reply": "2025-10-14T00:18:39.648979Z"
    },
    "papermill": {
     "duration": 0.099333,
     "end_time": "2025-10-14T00:18:39.650872",
     "exception": false,
     "start_time": "2025-10-14T00:18:39.551539",
     "status": "completed"
    },
    "tags": []
   },
   "outputs": [
    {
     "data": {
      "text/plain": [
       "'cuda'"
      ]
     },
     "execution_count": 2,
     "metadata": {},
     "output_type": "execute_result"
    }
   ],
   "source": [
    "device = \"cuda\" if torch.cuda.is_available() else \"cpu\"\n",
    "device"
   ]
  },
  {
   "cell_type": "code",
   "execution_count": 3,
   "id": "129bb46e",
   "metadata": {
    "execution": {
     "iopub.execute_input": "2025-10-14T00:18:39.656656Z",
     "iopub.status.busy": "2025-10-14T00:18:39.656429Z",
     "iopub.status.idle": "2025-10-14T00:19:49.730643Z",
     "shell.execute_reply": "2025-10-14T00:19:49.729925Z"
    },
    "papermill": {
     "duration": 70.078651,
     "end_time": "2025-10-14T00:19:49.732044",
     "exception": false,
     "start_time": "2025-10-14T00:18:39.653393",
     "status": "completed"
    },
    "tags": []
   },
   "outputs": [
    {
     "name": "stderr",
     "output_type": "stream",
     "text": [
      "/usr/local/lib/python3.11/dist-packages/torchvision/transforms/v2/_deprecated.py:42: UserWarning: The transform `ToTensor()` is deprecated and will be removed in a future release. Instead, please use `v2.Compose([v2.ToImage(), v2.ToDtype(torch.float32, scale=True)])`.Output is equivalent up to float precision.\n",
      "  warnings.warn(\n",
      "100%|██████████| 169M/169M [01:06<00:00, 2.54MB/s]\n"
     ]
    }
   ],
   "source": [
    "transform_train = v2.Compose([\n",
    "    v2.RandomHorizontalFlip(p=0.5),\n",
    "    v2.RandomCrop(32, padding=4),\n",
    "    v2.ColorJitter(brightness=0.2, contrast=0.2, saturation=0.2),\n",
    "    v2.RandomRotation(15),\n",
    "    ToTensor(),\n",
    "    v2.Normalize(\n",
    "        mean=[0.5071, 0.4867, 0.4408],\n",
    "        std=[0.2675, 0.2565, 0.2761]\n",
    "    )\n",
    "])\n",
    "transform_test = v2.Compose([\n",
    "    ToTensor(),\n",
    "    v2.Normalize(\n",
    "        mean=[0.5071, 0.4867, 0.4408],\n",
    "        std=[0.2675, 0.2565, 0.2761]\n",
    "    )\n",
    "])\n",
    "trainset = datasets.CIFAR100(root = './data', train = True, download= True, transform = transform_train)\n",
    "testset = datasets.CIFAR100(root = './data', train = False, download= True, transform = transform_test)\n",
    "\n",
    "train_size = int(0.8* len(trainset))\n",
    "valid_size = len(trainset) - train_size\n",
    "trainset, validset = random_split(trainset, [train_size, valid_size])\n",
    "\n",
    "train_loader = DataLoader(trainset, batch_size = 64, shuffle = True)\n",
    "valid_loader = DataLoader(validset, batch_size = 64, shuffle = False)\n",
    "test_loader = DataLoader(testset, batch_size = 64, shuffle = False)"
   ]
  },
  {
   "cell_type": "code",
   "execution_count": 4,
   "id": "60768238",
   "metadata": {
    "execution": {
     "iopub.execute_input": "2025-10-14T00:19:49.787697Z",
     "iopub.status.busy": "2025-10-14T00:19:49.787394Z",
     "iopub.status.idle": "2025-10-14T00:19:49.801063Z",
     "shell.execute_reply": "2025-10-14T00:19:49.800189Z"
    },
    "jupyter": {
     "source_hidden": true
    },
    "papermill": {
     "duration": 0.042386,
     "end_time": "2025-10-14T00:19:49.802359",
     "exception": false,
     "start_time": "2025-10-14T00:19:49.759973",
     "status": "completed"
    },
    "tags": []
   },
   "outputs": [],
   "source": [
    "def train_dataloader_model(\n",
    "    model, train_loader, valid_loader, optim, loss_fn,\n",
    "    device=None, max_epochs=100, diff=1e-3, patience=5\n",
    "):\n",
    "    if device is None:\n",
    "        device = torch.device(\"cuda\" if torch.cuda.is_available() else \"cpu\")\n",
    "\n",
    "    model.to(device)\n",
    "\n",
    "    train_losses = []\n",
    "    valid_losses = []\n",
    "    valid_accuracies = []\n",
    "\n",
    "    valid_loss_min = float(\"inf\")\n",
    "    patience_counter = 0\n",
    "\n",
    "    for epoch in range(max_epochs):\n",
    "        # ----------------------------\n",
    "        # TRAINING PHASE\n",
    "        # ----------------------------\n",
    "        model.train()\n",
    "        running_train_loss = 0.0\n",
    "\n",
    "        for X_train, y_train in train_loader:\n",
    "            X_train, y_train = X_train.to(device), y_train.to(device)\n",
    "\n",
    "            optim.zero_grad()\n",
    "            y_pred = model(X_train)\n",
    "            loss = loss_fn(y_pred, y_train)\n",
    "            loss.backward()\n",
    "            optim.step()\n",
    "\n",
    "            running_train_loss += loss.item()\n",
    "\n",
    "        epoch_train_loss = running_train_loss / len(train_loader)\n",
    "        train_losses.append(epoch_train_loss)\n",
    "\n",
    "        # ----------------------------\n",
    "        # VALIDATION PHASE\n",
    "        # ----------------------------\n",
    "        model.eval()\n",
    "        running_valid_loss = 0.0\n",
    "        correct = 0\n",
    "        total = 0\n",
    "\n",
    "        with torch.no_grad():\n",
    "            for X_valid, y_valid in valid_loader:\n",
    "                X_valid, y_valid = X_valid.to(device), y_valid.to(device)\n",
    "                y_pred = model(X_valid)\n",
    "\n",
    "                # Compute validation loss\n",
    "                loss = loss_fn(y_pred, y_valid)\n",
    "                running_valid_loss += loss.item()\n",
    "\n",
    "                # Compute accuracy\n",
    "                _, predicted = torch.max(y_pred, 1)\n",
    "                correct += (predicted == y_valid).sum().item()\n",
    "                total += y_valid.size(0)\n",
    "\n",
    "        epoch_valid_loss = running_valid_loss / len(valid_loader)\n",
    "        epoch_valid_acc = correct / total\n",
    "\n",
    "        valid_losses.append(epoch_valid_loss)\n",
    "        valid_accuracies.append(epoch_valid_acc)\n",
    "\n",
    "        scheduler.step(epoch_valid_loss)\n",
    "        # ----------------------------\n",
    "        # EARLY STOPPING CHECKS\n",
    "        # ----------------------------\n",
    "        if epoch > 0 and abs(train_losses[-1] - train_losses[-2]) < diff:\n",
    "            print(f\"epoch {epoch}: loss diff < {diff} → early convergence.\")\n",
    "            break\n",
    "\n",
    "        if epoch_valid_loss < valid_loss_min - diff:\n",
    "            valid_loss_min = epoch_valid_loss\n",
    "            patience_counter = 0\n",
    "        else:\n",
    "            patience_counter += 1\n",
    "\n",
    "        print(\n",
    "            f\"Epoch [{epoch+1}/{max_epochs}] | \"\n",
    "            f\"Train Loss: {epoch_train_loss:.4f} | \"\n",
    "            f\"Valid Loss: {epoch_valid_loss:.4f} | \"\n",
    "            f\"Valid Acc: {epoch_valid_acc*100:.2f}%\"\n",
    "        )\n",
    "\n",
    "        if patience_counter >= patience:\n",
    "            print(f\"\\nEarly stopping: no improvement for {patience} epochs.\")\n",
    "            break\n",
    "\n",
    "    # ----------------------------\n",
    "    # PLOTTING BEFORE RETURN\n",
    "    # ----------------------------\n",
    "    epochs = range(1, len(train_losses) + 1)\n",
    "\n",
    "    plt.figure(figsize=(10, 5))\n",
    "    plt.subplot(1, 2, 1)\n",
    "    plt.plot(epochs, train_losses, label=\"Train Loss\")\n",
    "    plt.plot(epochs, valid_losses, label=\"Valid Loss\")\n",
    "    plt.xlabel(\"Epoch\")\n",
    "    plt.ylabel(\"Loss\")\n",
    "    plt.title(\"Training vs Validation Loss\")\n",
    "    plt.legend()\n",
    "\n",
    "    plt.subplot(1, 2, 2)\n",
    "    plt.plot(epochs, valid_accuracies, label=\"Valid Accuracy\", color=\"green\")\n",
    "    plt.xlabel(\"Epoch\")\n",
    "    plt.ylabel(\"Accuracy\")\n",
    "    plt.title(\"Validation Accuracy\")\n",
    "    plt.legend()\n",
    "\n",
    "    plt.tight_layout()\n",
    "    plt.show()\n",
    "\n",
    "    return train_losses, valid_losses, valid_accuracies\n"
   ]
  },
  {
   "cell_type": "code",
   "execution_count": 5,
   "id": "18120043",
   "metadata": {
    "execution": {
     "iopub.execute_input": "2025-10-14T00:19:49.855741Z",
     "iopub.status.busy": "2025-10-14T00:19:49.855320Z",
     "iopub.status.idle": "2025-10-14T00:19:49.859215Z",
     "shell.execute_reply": "2025-10-14T00:19:49.858493Z"
    },
    "papermill": {
     "duration": 0.030871,
     "end_time": "2025-10-14T00:19:49.860348",
     "exception": false,
     "start_time": "2025-10-14T00:19:49.829477",
     "status": "completed"
    },
    "tags": []
   },
   "outputs": [],
   "source": [
    "def conv_block(in_channels, out_channels):\n",
    "    return nn.Sequential(\n",
    "        nn.BatchNorm2d(in_channels), nn.ReLU(),\n",
    "        nn.Conv2d(in_channels, out_channels, kernel_size=3, padding=1, bias = False))"
   ]
  },
  {
   "cell_type": "code",
   "execution_count": 6,
   "id": "27b30bd2",
   "metadata": {
    "execution": {
     "iopub.execute_input": "2025-10-14T00:19:49.911653Z",
     "iopub.status.busy": "2025-10-14T00:19:49.911441Z",
     "iopub.status.idle": "2025-10-14T00:19:49.916335Z",
     "shell.execute_reply": "2025-10-14T00:19:49.915577Z"
    },
    "papermill": {
     "duration": 0.03301,
     "end_time": "2025-10-14T00:19:49.917890",
     "exception": false,
     "start_time": "2025-10-14T00:19:49.884880",
     "status": "completed"
    },
    "tags": []
   },
   "outputs": [],
   "source": [
    "class DenseBlock(nn.Module):\n",
    "    def __init__(self, num_convs, num_channels, growth_rate):\n",
    "        super(DenseBlock, self).__init__()\n",
    "        layer = []\n",
    "        for i in range(num_convs):\n",
    "            layer.append(conv_block(num_channels + i * growth_rate, growth_rate))\n",
    "        self.net = nn.Sequential(*layer)\n",
    "\n",
    "    def forward(self, X):\n",
    "        for blk in self.net:\n",
    "            Y = blk(X)\n",
    "            # Concatenate input and output of each block along the channels\n",
    "            X = torch.cat((X, Y), dim=1)\n",
    "        return X"
   ]
  },
  {
   "cell_type": "code",
   "execution_count": 7,
   "id": "162446b8",
   "metadata": {
    "execution": {
     "iopub.execute_input": "2025-10-14T00:19:49.978157Z",
     "iopub.status.busy": "2025-10-14T00:19:49.977549Z",
     "iopub.status.idle": "2025-10-14T00:19:49.981284Z",
     "shell.execute_reply": "2025-10-14T00:19:49.980733Z"
    },
    "papermill": {
     "duration": 0.033816,
     "end_time": "2025-10-14T00:19:49.982330",
     "exception": false,
     "start_time": "2025-10-14T00:19:49.948514",
     "status": "completed"
    },
    "tags": []
   },
   "outputs": [],
   "source": [
    "def transition_block(in_channels, out_channels):\n",
    "    return nn.Sequential(\n",
    "        nn.BatchNorm2d(in_channels), nn.ReLU(),\n",
    "        nn.Conv2d(in_channels, out_channels, kernel_size=1),\n",
    "        nn.AvgPool2d(kernel_size=2, stride=2))"
   ]
  },
  {
   "cell_type": "code",
   "execution_count": 8,
   "id": "25400852",
   "metadata": {
    "execution": {
     "iopub.execute_input": "2025-10-14T00:19:50.031693Z",
     "iopub.status.busy": "2025-10-14T00:19:50.031492Z",
     "iopub.status.idle": "2025-10-14T00:19:50.037779Z",
     "shell.execute_reply": "2025-10-14T00:19:50.037072Z"
    },
    "papermill": {
     "duration": 0.031902,
     "end_time": "2025-10-14T00:19:50.038865",
     "exception": false,
     "start_time": "2025-10-14T00:19:50.006963",
     "status": "completed"
    },
    "tags": []
   },
   "outputs": [],
   "source": [
    "class DenseNet(nn.Module):\n",
    "    def b1(self):\n",
    "        return nn.Sequential(\n",
    "            nn.Conv2d(3, 64, kernel_size=3, stride=1, padding=1),\n",
    "            nn.BatchNorm2d(64), nn.ReLU())\n",
    "    def __init__(self, num_channels=64, growth_rate=12, arch=(6, 12, 24, 16),\n",
    "            num_classes=100):\n",
    "        super(DenseNet, self).__init__()\n",
    "        self.net = nn.Sequential(self.b1())\n",
    "        for i, num_convs in enumerate(arch):\n",
    "            self.net.add_module(f'dense_blk{i+1}', DenseBlock(num_convs, num_channels,\n",
    "                                                              growth_rate))\n",
    "            # The number of output channels in the previous dense block\n",
    "            num_channels += num_convs * growth_rate\n",
    "            # A transition layer that halves the number of channels is added\n",
    "            # between the dense blocks\n",
    "            if i != len(arch) - 1:\n",
    "                \n",
    "                self.net.add_module(f'tran_blk{i+1}', transition_block(num_channels,\n",
    "                    num_channels//2))\n",
    "                num_channels //= 2\n",
    "        self.net.add_module('last', nn.Sequential(\n",
    "            nn.BatchNorm2d(num_channels), nn.ReLU(),\n",
    "            nn.AdaptiveAvgPool2d((1, 1)), nn.Flatten(),\n",
    "            nn.Linear(num_channels, num_classes)))\n",
    "    def forward(self, x):\n",
    "        return self.net(x)"
   ]
  },
  {
   "cell_type": "code",
   "execution_count": 9,
   "id": "f4e0adda",
   "metadata": {
    "execution": {
     "iopub.execute_input": "2025-10-14T00:19:50.088873Z",
     "iopub.status.busy": "2025-10-14T00:19:50.088511Z",
     "iopub.status.idle": "2025-10-14T00:19:50.349944Z",
     "shell.execute_reply": "2025-10-14T00:19:50.349114Z"
    },
    "papermill": {
     "duration": 0.28823,
     "end_time": "2025-10-14T00:19:50.351395",
     "exception": false,
     "start_time": "2025-10-14T00:19:50.063165",
     "status": "completed"
    },
    "tags": []
   },
   "outputs": [],
   "source": [
    "model = DenseNet().to(device)\n",
    "optim = torch.optim.Adam(model.parameters(), lr=1e-3, weight_decay = 1e-4)\n",
    "loss_fn = nn.CrossEntropyLoss()\n",
    "scheduler = ReduceLROnPlateau(optim, mode='min', factor=0.5, patience=3)"
   ]
  },
  {
   "cell_type": "code",
   "execution_count": 10,
   "id": "88ab5a19",
   "metadata": {
    "execution": {
     "iopub.execute_input": "2025-10-14T00:19:50.401845Z",
     "iopub.status.busy": "2025-10-14T00:19:50.401617Z",
     "iopub.status.idle": "2025-10-14T01:34:22.583923Z",
     "shell.execute_reply": "2025-10-14T01:34:22.583129Z"
    },
    "papermill": {
     "duration": 4472.208458,
     "end_time": "2025-10-14T01:34:22.585164",
     "exception": false,
     "start_time": "2025-10-14T00:19:50.376706",
     "status": "completed"
    },
    "tags": []
   },
   "outputs": [
    {
     "name": "stdout",
     "output_type": "stream",
     "text": [
      "Epoch [1/100] | Train Loss: 3.8782 | Valid Loss: 3.7119 | Valid Acc: 12.41%\n",
      "Epoch [2/100] | Train Loss: 3.3361 | Valid Loss: 3.1885 | Valid Acc: 21.05%\n",
      "Epoch [3/100] | Train Loss: 2.9585 | Valid Loss: 2.8309 | Valid Acc: 28.15%\n",
      "Epoch [4/100] | Train Loss: 2.6610 | Valid Loss: 2.6295 | Valid Acc: 31.77%\n",
      "Epoch [5/100] | Train Loss: 2.4364 | Valid Loss: 2.4854 | Valid Acc: 34.58%\n",
      "Epoch [6/100] | Train Loss: 2.2478 | Valid Loss: 2.2437 | Valid Acc: 40.11%\n",
      "Epoch [7/100] | Train Loss: 2.0786 | Valid Loss: 2.1318 | Valid Acc: 42.91%\n",
      "Epoch [8/100] | Train Loss: 1.9439 | Valid Loss: 2.0500 | Valid Acc: 44.57%\n",
      "Epoch [9/100] | Train Loss: 1.8332 | Valid Loss: 1.9729 | Valid Acc: 46.56%\n",
      "Epoch [10/100] | Train Loss: 1.7349 | Valid Loss: 1.9422 | Valid Acc: 46.87%\n",
      "Epoch [11/100] | Train Loss: 1.6567 | Valid Loss: 1.8600 | Valid Acc: 48.90%\n",
      "Epoch [12/100] | Train Loss: 1.5845 | Valid Loss: 1.7997 | Valid Acc: 50.37%\n",
      "Epoch [13/100] | Train Loss: 1.5134 | Valid Loss: 1.6880 | Valid Acc: 53.32%\n",
      "Epoch [14/100] | Train Loss: 1.4696 | Valid Loss: 1.7031 | Valid Acc: 53.75%\n",
      "Epoch [15/100] | Train Loss: 1.4137 | Valid Loss: 1.6585 | Valid Acc: 54.21%\n",
      "Epoch [16/100] | Train Loss: 1.3628 | Valid Loss: 1.6313 | Valid Acc: 55.10%\n",
      "Epoch [17/100] | Train Loss: 1.3225 | Valid Loss: 1.5806 | Valid Acc: 55.73%\n",
      "Epoch [18/100] | Train Loss: 1.2808 | Valid Loss: 1.6103 | Valid Acc: 55.37%\n",
      "Epoch [19/100] | Train Loss: 1.2401 | Valid Loss: 1.5827 | Valid Acc: 56.17%\n",
      "Epoch [20/100] | Train Loss: 1.2099 | Valid Loss: 1.5453 | Valid Acc: 57.54%\n",
      "Epoch [21/100] | Train Loss: 1.1788 | Valid Loss: 1.5188 | Valid Acc: 58.45%\n",
      "Epoch [22/100] | Train Loss: 1.1509 | Valid Loss: 1.5600 | Valid Acc: 57.61%\n",
      "Epoch [23/100] | Train Loss: 1.1296 | Valid Loss: 1.5039 | Valid Acc: 58.24%\n",
      "Epoch [24/100] | Train Loss: 1.0884 | Valid Loss: 1.5540 | Valid Acc: 57.98%\n",
      "Epoch [25/100] | Train Loss: 1.0693 | Valid Loss: 1.5518 | Valid Acc: 57.83%\n",
      "Epoch [26/100] | Train Loss: 1.0496 | Valid Loss: 1.5090 | Valid Acc: 58.58%\n",
      "Epoch [27/100] | Train Loss: 1.0273 | Valid Loss: 1.4760 | Valid Acc: 59.82%\n",
      "Epoch [28/100] | Train Loss: 1.0070 | Valid Loss: 1.4331 | Valid Acc: 60.18%\n",
      "Epoch [29/100] | Train Loss: 0.9822 | Valid Loss: 1.4598 | Valid Acc: 60.67%\n",
      "Epoch [30/100] | Train Loss: 0.9755 | Valid Loss: 1.4733 | Valid Acc: 60.14%\n",
      "Epoch [31/100] | Train Loss: 0.9468 | Valid Loss: 1.4700 | Valid Acc: 59.70%\n",
      "Epoch [32/100] | Train Loss: 0.9402 | Valid Loss: 1.4616 | Valid Acc: 60.18%\n",
      "Epoch [33/100] | Train Loss: 0.7619 | Valid Loss: 1.3341 | Valid Acc: 63.76%\n",
      "Epoch [34/100] | Train Loss: 0.7187 | Valid Loss: 1.3426 | Valid Acc: 63.74%\n",
      "Epoch [35/100] | Train Loss: 0.7037 | Valid Loss: 1.3417 | Valid Acc: 63.43%\n",
      "Epoch [36/100] | Train Loss: 0.6840 | Valid Loss: 1.3349 | Valid Acc: 64.09%\n",
      "Epoch [37/100] | Train Loss: 0.6657 | Valid Loss: 1.3568 | Valid Acc: 63.22%\n",
      "Epoch [38/100] | Train Loss: 0.5749 | Valid Loss: 1.2889 | Valid Acc: 65.55%\n",
      "Epoch [39/100] | Train Loss: 0.5420 | Valid Loss: 1.3291 | Valid Acc: 64.32%\n",
      "Epoch [40/100] | Train Loss: 0.5321 | Valid Loss: 1.3043 | Valid Acc: 65.28%\n",
      "Epoch [41/100] | Train Loss: 0.5177 | Valid Loss: 1.3365 | Valid Acc: 65.34%\n",
      "Epoch [42/100] | Train Loss: 0.5037 | Valid Loss: 1.3423 | Valid Acc: 64.79%\n",
      "Epoch [43/100] | Train Loss: 0.4529 | Valid Loss: 1.2964 | Valid Acc: 65.96%\n",
      "\n",
      "Early stopping: no improvement for 5 epochs.\n"
     ]
    },
    {
     "data": {
      "image/png": "[encoded data removed]",
      "text/plain": [
       "<Figure size 1000x500 with 2 Axes>"
      ]
     },
     "metadata": {},
     "output_type": "display_data"
    },
    {
     "data": {
      "text/plain": [
       "([3.878158994293213,\n",
       "  3.3361269203186037,\n",
       "  2.958509013366699,\n",
       "  2.6610310447692873,\n",
       "  2.4363620851516723,\n",
       "  2.247826907348633,\n",
       "  2.078589870452881,\n",
       "  1.943859460258484,\n",
       "  1.8331829526901244,\n",
       "  1.7348978874206542,\n",
       "  1.6567039915084838,\n",
       "  1.5844747129440309,\n",
       "  1.5133507661819459,\n",
       "  1.4696087282180785,\n",
       "  1.4136708055496217,\n",
       "  1.362778626728058,\n",
       "  1.3225435817718505,\n",
       "  1.2808006412506103,\n",
       "  1.2401322528839112,\n",
       "  1.2099297842025756,\n",
       "  1.1787532829284668,\n",
       "  1.1508509801864624,\n",
       "  1.1296483651161193,\n",
       "  1.088416833114624,\n",
       "  1.0692840611457826,\n",
       "  1.0496418400764465,\n",
       "  1.0273113570213317,\n",
       "  1.0070484963417052,\n",
       "  0.9822264300346375,\n",
       "  0.9754756899833679,\n",
       "  0.9467513072967529,\n",
       "  0.9401543584346771,\n",
       "  0.7619390632629395,\n",
       "  0.7186967329025269,\n",
       "  0.7037471639633178,\n",
       "  0.6839616373538971,\n",
       "  0.6657211584091186,\n",
       "  0.5748506028175354,\n",
       "  0.5420355192184448,\n",
       "  0.5321173727273941,\n",
       "  0.5176779125452041,\n",
       "  0.5037275056600571,\n",
       "  0.45290507938861846],\n",
       " [3.7119107671604037,\n",
       "  3.1884866626399337,\n",
       "  2.8309293507011075,\n",
       "  2.6294558746799543,\n",
       "  2.4854251351326133,\n",
       "  2.243720338602734,\n",
       "  2.1317661469149742,\n",
       "  2.0500218959370997,\n",
       "  1.9729428420400923,\n",
       "  1.9422041496653466,\n",
       "  1.8600404748491421,\n",
       "  1.7997417624588985,\n",
       "  1.6879876054775942,\n",
       "  1.7030533119371742,\n",
       "  1.658534429635212,\n",
       "  1.6312575530094706,\n",
       "  1.5806376334208592,\n",
       "  1.6102637834609694,\n",
       "  1.5827051864308157,\n",
       "  1.5453419639806079,\n",
       "  1.5188098952269098,\n",
       "  1.5599850940096909,\n",
       "  1.5039350614426241,\n",
       "  1.554000115318663,\n",
       "  1.5517707463282688,\n",
       "  1.5089581050690573,\n",
       "  1.4760128225490545,\n",
       "  1.433093361034515,\n",
       "  1.4598441435273286,\n",
       "  1.4732767476397715,\n",
       "  1.470047121594666,\n",
       "  1.461553418332604,\n",
       "  1.3340544958782803,\n",
       "  1.342641629231204,\n",
       "  1.341722918543846,\n",
       "  1.334880666747974,\n",
       "  1.356765094076752,\n",
       "  1.2888564995140026,\n",
       "  1.3290946312770722,\n",
       "  1.304253940369673,\n",
       "  1.3365033910532667,\n",
       "  1.3423435612089316,\n",
       "  1.2964487474435453],\n",
       " [0.1241,\n",
       "  0.2105,\n",
       "  0.2815,\n",
       "  0.3177,\n",
       "  0.3458,\n",
       "  0.4011,\n",
       "  0.4291,\n",
       "  0.4457,\n",
       "  0.4656,\n",
       "  0.4687,\n",
       "  0.489,\n",
       "  0.5037,\n",
       "  0.5332,\n",
       "  0.5375,\n",
       "  0.5421,\n",
       "  0.551,\n",
       "  0.5573,\n",
       "  0.5537,\n",
       "  0.5617,\n",
       "  0.5754,\n",
       "  0.5845,\n",
       "  0.5761,\n",
       "  0.5824,\n",
       "  0.5798,\n",
       "  0.5783,\n",
       "  0.5858,\n",
       "  0.5982,\n",
       "  0.6018,\n",
       "  0.6067,\n",
       "  0.6014,\n",
       "  0.597,\n",
       "  0.6018,\n",
       "  0.6376,\n",
       "  0.6374,\n",
       "  0.6343,\n",
       "  0.6409,\n",
       "  0.6322,\n",
       "  0.6555,\n",
       "  0.6432,\n",
       "  0.6528,\n",
       "  0.6534,\n",
       "  0.6479,\n",
       "  0.6596])"
      ]
     },
     "execution_count": 10,
     "metadata": {},
     "output_type": "execute_result"
    }
   ],
   "source": [
    "train_dataloader_model(model, train_loader, valid_loader, optim= optim, loss_fn= loss_fn)"
   ]
  },
  {
   "cell_type": "code",
   "execution_count": 11,
   "id": "9061a20b",
   "metadata": {
    "execution": {
     "iopub.execute_input": "2025-10-14T01:34:22.641734Z",
     "iopub.status.busy": "2025-10-14T01:34:22.641325Z",
     "iopub.status.idle": "2025-10-14T01:34:22.646018Z",
     "shell.execute_reply": "2025-10-14T01:34:22.645308Z"
    },
    "papermill": {
     "duration": 0.033886,
     "end_time": "2025-10-14T01:34:22.647249",
     "exception": false,
     "start_time": "2025-10-14T01:34:22.613363",
     "status": "completed"
    },
    "tags": []
   },
   "outputs": [
    {
     "name": "stdout",
     "output_type": "stream",
     "text": [
      "Total parameters: 1,541,091\n"
     ]
    }
   ],
   "source": [
    "total_params = sum(p.numel() for p in model.parameters())\n",
    "print(f\"Total parameters: {total_params:,}\")"
   ]
  }
 ],
 "metadata": {
  "kaggle": {
   "accelerator": "nvidiaTeslaT4",
   "dataSources": [],
   "dockerImageVersionId": 31154,
   "isGpuEnabled": true,
   "isInternetEnabled": true,
   "language": "python",
   "sourceType": "notebook"
  },
  "kernelspec": {
   "display_name": "Python 3",
   "language": "python",
   "name": "python3"
  },
  "language_info": {
   "codemirror_mode": {
    "name": "ipython",
    "version": 3
   },
   "file_extension": ".py",
   "mimetype": "text/x-python",
   "name": "python",
   "nbconvert_exporter": "python",
   "pygments_lexer": "ipython3",
   "version": "3.11.13"
  },
  "papermill": {
   "default_parameters": {},
   "duration": 4566.318808,
   "end_time": "2025-10-14T01:34:25.127074",
   "environment_variables": {},
   "exception": null,
   "input_path": "__notebook__.ipynb",
   "output_path": "__notebook__.ipynb",
   "parameters": {},
   "start_time": "2025-10-14T00:18:18.808266",
   "version": "2.6.0"
  }
 },
 "nbformat": 4,
 "nbformat_minor": 5
}
