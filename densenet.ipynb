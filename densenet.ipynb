{
 "cells": [
  {
   "cell_type": "code",
   "execution_count": 1,
   "id": "db053501",
   "metadata": {
    "_cell_guid": "b1076dfc-b9ad-4769-8c92-a6c4dae69d19",
    "_uuid": "8f2839f25d086af736a60e9eeb907d3b93b6e0e5",
    "execution": {
     "iopub.execute_input": "2025-10-13T16:45:00.128432Z",
     "iopub.status.busy": "2025-10-13T16:45:00.128197Z",
     "iopub.status.idle": "2025-10-13T16:45:09.668218Z",
     "shell.execute_reply": "2025-10-13T16:45:09.667590Z"
    },
    "papermill": {
     "duration": 9.545013,
     "end_time": "2025-10-13T16:45:09.669525",
     "exception": false,
     "start_time": "2025-10-13T16:45:00.124512",
     "status": "completed"
    },
    "tags": []
   },
   "outputs": [],
   "source": [
    "import numpy as np\n",
    "import pandas as pd\n",
    "import matplotlib.pyplot as plt\n",
    "\n",
    "import torch\n",
    "from torch import nn\n",
    "from torch.utils.data import DataLoader, random_split\n",
    "import torchvision\n",
    "from torchvision.transforms import v2\n",
    "from torchvision.transforms.v2 import ToTensor\n",
    "from torchvision import datasets\n",
    "from torch.optim.lr_scheduler import ReduceLROnPlateau"
   ]
  },
  {
   "cell_type": "code",
   "execution_count": 2,
   "id": "532ea28f",
   "metadata": {
    "execution": {
     "iopub.execute_input": "2025-10-13T16:45:09.674892Z",
     "iopub.status.busy": "2025-10-13T16:45:09.674594Z",
     "iopub.status.idle": "2025-10-13T16:45:09.755751Z",
     "shell.execute_reply": "2025-10-13T16:45:09.755084Z"
    },
    "papermill": {
     "duration": 0.084954,
     "end_time": "2025-10-13T16:45:09.756905",
     "exception": false,
     "start_time": "2025-10-13T16:45:09.671951",
     "status": "completed"
    },
    "tags": []
   },
   "outputs": [
    {
     "data": {
      "text/plain": [
       "'cuda'"
      ]
     },
     "execution_count": 2,
     "metadata": {},
     "output_type": "execute_result"
    }
   ],
   "source": [
    "device = \"cuda\" if torch.cuda.is_available() else \"cpu\"\n",
    "device"
   ]
  },
  {
   "cell_type": "code",
   "execution_count": 3,
   "id": "3117312e",
   "metadata": {
    "execution": {
     "iopub.execute_input": "2025-10-13T16:45:09.762574Z",
     "iopub.status.busy": "2025-10-13T16:45:09.762359Z",
     "iopub.status.idle": "2025-10-13T16:45:20.462947Z",
     "shell.execute_reply": "2025-10-13T16:45:20.462319Z"
    },
    "jupyter": {
     "source_hidden": true
    },
    "papermill": {
     "duration": 10.704773,
     "end_time": "2025-10-13T16:45:20.464376",
     "exception": false,
     "start_time": "2025-10-13T16:45:09.759603",
     "status": "completed"
    },
    "tags": []
   },
   "outputs": [
    {
     "name": "stderr",
     "output_type": "stream",
     "text": [
      "/usr/local/lib/python3.11/dist-packages/torchvision/transforms/v2/_deprecated.py:42: UserWarning: The transform `ToTensor()` is deprecated and will be removed in a future release. Instead, please use `v2.Compose([v2.ToImage(), v2.ToDtype(torch.float32, scale=True)])`.Output is equivalent up to float precision.\n",
      "  warnings.warn(\n",
      "100%|██████████| 169M/169M [00:07<00:00, 23.2MB/s]\n"
     ]
    }
   ],
   "source": [
    "transform_train = v2.Compose([\n",
    "    v2.RandomHorizontalFlip(p=0.5),\n",
    "    v2.RandomCrop(32, padding=4),\n",
    "    v2.ColorJitter(brightness=0.2, contrast=0.2, saturation=0.2),\n",
    "    v2.RandomRotation(15),\n",
    "    ToTensor(),\n",
    "    v2.Normalize(\n",
    "        mean=[0.5071, 0.4867, 0.4408],\n",
    "        std=[0.2675, 0.2565, 0.2761]\n",
    "    )\n",
    "])\n",
    "transform_test = v2.Compose([\n",
    "    ToTensor(),\n",
    "    v2.Normalize(\n",
    "        mean=[0.5071, 0.4867, 0.4408],\n",
    "        std=[0.2675, 0.2565, 0.2761]\n",
    "    )\n",
    "])\n",
    "trainset = datasets.CIFAR100(root = './data', train = True, download= True, transform = transform_train)\n",
    "testset = datasets.CIFAR100(root = './data', train = False, download= True, transform = transform_test)\n",
    "\n",
    "train_size = int(0.8* len(trainset))\n",
    "valid_size = len(trainset) - train_size\n",
    "trainset, validset = random_split(trainset, [train_size, valid_size])\n",
    "\n",
    "train_loader = DataLoader(trainset, batch_size = 64, shuffle = True)\n",
    "valid_loader = DataLoader(validset, batch_size = 64, shuffle = False)\n",
    "test_loader = DataLoader(testset, batch_size = 64, shuffle = False)"
   ]
  },
  {
   "cell_type": "code",
   "execution_count": 4,
   "id": "cbcb2feb",
   "metadata": {
    "execution": {
     "iopub.execute_input": "2025-10-13T16:45:20.475686Z",
     "iopub.status.busy": "2025-10-13T16:45:20.475461Z",
     "iopub.status.idle": "2025-10-13T16:45:20.485956Z",
     "shell.execute_reply": "2025-10-13T16:45:20.485449Z"
    },
    "jupyter": {
     "source_hidden": true
    },
    "papermill": {
     "duration": 0.017135,
     "end_time": "2025-10-13T16:45:20.486919",
     "exception": false,
     "start_time": "2025-10-13T16:45:20.469784",
     "status": "completed"
    },
    "tags": []
   },
   "outputs": [],
   "source": [
    "def train_dataloader_model(\n",
    "    model, train_loader, valid_loader, optim, loss_fn,\n",
    "    device=None, max_epochs=100, diff=1e-3, patience=5\n",
    "):\n",
    "    if device is None:\n",
    "        device = torch.device(\"cuda\" if torch.cuda.is_available() else \"cpu\")\n",
    "\n",
    "    model.to(device)\n",
    "\n",
    "    train_losses = []\n",
    "    valid_losses = []\n",
    "    valid_accuracies = []\n",
    "\n",
    "    valid_loss_min = float(\"inf\")\n",
    "    patience_counter = 0\n",
    "\n",
    "    for epoch in range(max_epochs):\n",
    "        # ----------------------------\n",
    "        # TRAINING PHASE\n",
    "        # ----------------------------\n",
    "        model.train()\n",
    "        running_train_loss = 0.0\n",
    "\n",
    "        for X_train, y_train in train_loader:\n",
    "            X_train, y_train = X_train.to(device), y_train.to(device)\n",
    "\n",
    "            optim.zero_grad()\n",
    "            y_pred = model(X_train)\n",
    "            loss = loss_fn(y_pred, y_train)\n",
    "            loss.backward()\n",
    "            optim.step()\n",
    "\n",
    "            running_train_loss += loss.item()\n",
    "\n",
    "        epoch_train_loss = running_train_loss / len(train_loader)\n",
    "        train_losses.append(epoch_train_loss)\n",
    "\n",
    "        # ----------------------------\n",
    "        # VALIDATION PHASE\n",
    "        # ----------------------------\n",
    "        model.eval()\n",
    "        running_valid_loss = 0.0\n",
    "        correct = 0\n",
    "        total = 0\n",
    "\n",
    "        with torch.no_grad():\n",
    "            for X_valid, y_valid in valid_loader:\n",
    "                X_valid, y_valid = X_valid.to(device), y_valid.to(device)\n",
    "                y_pred = model(X_valid)\n",
    "\n",
    "                # Compute validation loss\n",
    "                loss = loss_fn(y_pred, y_valid)\n",
    "                running_valid_loss += loss.item()\n",
    "\n",
    "                # Compute accuracy\n",
    "                _, predicted = torch.max(y_pred, 1)\n",
    "                correct += (predicted == y_valid).sum().item()\n",
    "                total += y_valid.size(0)\n",
    "\n",
    "        epoch_valid_loss = running_valid_loss / len(valid_loader)\n",
    "        epoch_valid_acc = correct / total\n",
    "\n",
    "        valid_losses.append(epoch_valid_loss)\n",
    "        valid_accuracies.append(epoch_valid_acc)\n",
    "\n",
    "        scheduler.step(epoch_valid_loss)\n",
    "        # ----------------------------\n",
    "        # EARLY STOPPING CHECKS\n",
    "        # ----------------------------\n",
    "        if epoch > 0 and abs(train_losses[-1] - train_losses[-2]) < diff:\n",
    "            print(f\"epoch {epoch}: loss diff < {diff} → early convergence.\")\n",
    "            break\n",
    "\n",
    "        if epoch_valid_loss < valid_loss_min - diff:\n",
    "            valid_loss_min = epoch_valid_loss\n",
    "            patience_counter = 0\n",
    "        else:\n",
    "            patience_counter += 1\n",
    "\n",
    "        print(\n",
    "            f\"Epoch [{epoch+1}/{max_epochs}] | \"\n",
    "            f\"Train Loss: {epoch_train_loss:.4f} | \"\n",
    "            f\"Valid Loss: {epoch_valid_loss:.4f} | \"\n",
    "            f\"Valid Acc: {epoch_valid_acc*100:.2f}%\"\n",
    "        )\n",
    "\n",
    "        if patience_counter >= patience:\n",
    "            print(f\"\\nEarly stopping: no improvement for {patience} epochs.\")\n",
    "            break\n",
    "\n",
    "    # ----------------------------\n",
    "    # PLOTTING BEFORE RETURN\n",
    "    # ----------------------------\n",
    "    epochs = range(1, len(train_losses) + 1)\n",
    "\n",
    "    plt.figure(figsize=(10, 5))\n",
    "    plt.subplot(1, 2, 1)\n",
    "    plt.plot(epochs, train_losses, label=\"Train Loss\")\n",
    "    plt.plot(epochs, valid_losses, label=\"Valid Loss\")\n",
    "    plt.xlabel(\"Epoch\")\n",
    "    plt.ylabel(\"Loss\")\n",
    "    plt.title(\"Training vs Validation Loss\")\n",
    "    plt.legend()\n",
    "\n",
    "    plt.subplot(1, 2, 2)\n",
    "    plt.plot(epochs, valid_accuracies, label=\"Valid Accuracy\", color=\"green\")\n",
    "    plt.xlabel(\"Epoch\")\n",
    "    plt.ylabel(\"Accuracy\")\n",
    "    plt.title(\"Validation Accuracy\")\n",
    "    plt.legend()\n",
    "\n",
    "    plt.tight_layout()\n",
    "    plt.show()\n",
    "\n",
    "    return train_losses, valid_losses, valid_accuracies\n"
   ]
  },
  {
   "cell_type": "code",
   "execution_count": 5,
   "id": "13cc45c3",
   "metadata": {
    "execution": {
     "iopub.execute_input": "2025-10-13T16:45:20.496983Z",
     "iopub.status.busy": "2025-10-13T16:45:20.496782Z",
     "iopub.status.idle": "2025-10-13T16:45:20.499970Z",
     "shell.execute_reply": "2025-10-13T16:45:20.499481Z"
    },
    "papermill": {
     "duration": 0.009334,
     "end_time": "2025-10-13T16:45:20.500968",
     "exception": false,
     "start_time": "2025-10-13T16:45:20.491634",
     "status": "completed"
    },
    "tags": []
   },
   "outputs": [],
   "source": [
    "def conv_block(in_channels, out_channels):\n",
    "    return nn.Sequential(\n",
    "        nn.BatchNorm2d(in_channels), nn.ReLU(),\n",
    "        nn.Conv2d(in_channels, out_channels, kernel_size=3, padding=1, bias = False))"
   ]
  },
  {
   "cell_type": "code",
   "execution_count": 6,
   "id": "aa3db197",
   "metadata": {
    "execution": {
     "iopub.execute_input": "2025-10-13T16:45:20.511306Z",
     "iopub.status.busy": "2025-10-13T16:45:20.510804Z",
     "iopub.status.idle": "2025-10-13T16:45:20.515072Z",
     "shell.execute_reply": "2025-10-13T16:45:20.514552Z"
    },
    "papermill": {
     "duration": 0.010415,
     "end_time": "2025-10-13T16:45:20.516111",
     "exception": false,
     "start_time": "2025-10-13T16:45:20.505696",
     "status": "completed"
    },
    "tags": []
   },
   "outputs": [],
   "source": [
    "class DenseBlock(nn.Module):\n",
    "    def __init__(self, num_convs, num_channels, growth_rate):\n",
    "        super(DenseBlock, self).__init__()\n",
    "        layer = []\n",
    "        for i in range(num_convs):\n",
    "            layer.append(conv_block(num_channels + i * growth_rate, growth_rate))\n",
    "        self.net = nn.Sequential(*layer)\n",
    "\n",
    "    def forward(self, X):\n",
    "        for blk in self.net:\n",
    "            Y = blk(X)\n",
    "            # Concatenate input and output of each block along the channels\n",
    "            X = torch.cat((X, Y), dim=1)\n",
    "        return X"
   ]
  },
  {
   "cell_type": "code",
   "execution_count": 7,
   "id": "2a7696ef",
   "metadata": {
    "execution": {
     "iopub.execute_input": "2025-10-13T16:45:20.527429Z",
     "iopub.status.busy": "2025-10-13T16:45:20.526857Z",
     "iopub.status.idle": "2025-10-13T16:45:20.530646Z",
     "shell.execute_reply": "2025-10-13T16:45:20.529906Z"
    },
    "papermill": {
     "duration": 0.010793,
     "end_time": "2025-10-13T16:45:20.531711",
     "exception": false,
     "start_time": "2025-10-13T16:45:20.520918",
     "status": "completed"
    },
    "tags": []
   },
   "outputs": [],
   "source": [
    "def transition_block(in_channels, out_channels):\n",
    "    return nn.Sequential(\n",
    "        nn.BatchNorm2d(in_channels), nn.ReLU(),\n",
    "        nn.Conv2d(in_channels, out_channels, kernel_size=1),\n",
    "        nn.AvgPool2d(kernel_size=2, stride=2))"
   ]
  },
  {
   "cell_type": "code",
   "execution_count": 8,
   "id": "56c5971a",
   "metadata": {
    "execution": {
     "iopub.execute_input": "2025-10-13T16:45:20.544103Z",
     "iopub.status.busy": "2025-10-13T16:45:20.543479Z",
     "iopub.status.idle": "2025-10-13T16:45:20.549393Z",
     "shell.execute_reply": "2025-10-13T16:45:20.548837Z"
    },
    "papermill": {
     "duration": 0.012096,
     "end_time": "2025-10-13T16:45:20.550435",
     "exception": false,
     "start_time": "2025-10-13T16:45:20.538339",
     "status": "completed"
    },
    "tags": []
   },
   "outputs": [],
   "source": [
    "class DenseNet(nn.Module):\n",
    "    def b1(self):\n",
    "        return nn.Sequential(\n",
    "            nn.Conv2d(3, 64, kernel_size=3, stride=1, padding=1),\n",
    "            nn.BatchNorm2d(64), nn.ReLU(),\n",
    "            nn.MaxPool2d(kernel_size=3, stride=2, padding=1))\n",
    "    def __init__(self, num_channels=64, growth_rate=32, arch=(4, 4, 4, 4),\n",
    "            num_classes=100):\n",
    "        super(DenseNet, self).__init__()\n",
    "        self.net = nn.Sequential(self.b1())\n",
    "        for i, num_convs in enumerate(arch):\n",
    "            self.net.add_module(f'dense_blk{i+1}', DenseBlock(num_convs, num_channels,\n",
    "                                                              growth_rate))\n",
    "            # The number of output channels in the previous dense block\n",
    "            num_channels += num_convs * growth_rate\n",
    "            # A transition layer that halves the number of channels is added\n",
    "            # between the dense blocks\n",
    "            if i != len(arch) - 1:\n",
    "                \n",
    "                self.net.add_module(f'tran_blk{i+1}', transition_block(num_channels,\n",
    "                    num_channels//2))\n",
    "                num_channels //= 2\n",
    "        self.net.add_module('last', nn.Sequential(\n",
    "            nn.BatchNorm2d(num_channels), nn.ReLU(),\n",
    "            nn.AdaptiveAvgPool2d((1, 1)), nn.Flatten(),\n",
    "            nn.Linear(num_channels, num_classes)))\n",
    "    def forward(self, x):\n",
    "        return self.net(x)"
   ]
  },
  {
   "cell_type": "code",
   "execution_count": 9,
   "id": "6a7bfb75",
   "metadata": {
    "execution": {
     "iopub.execute_input": "2025-10-13T16:45:20.560351Z",
     "iopub.status.busy": "2025-10-13T16:45:20.560109Z",
     "iopub.status.idle": "2025-10-13T16:45:20.745817Z",
     "shell.execute_reply": "2025-10-13T16:45:20.745007Z"
    },
    "papermill": {
     "duration": 0.192136,
     "end_time": "2025-10-13T16:45:20.747262",
     "exception": false,
     "start_time": "2025-10-13T16:45:20.555126",
     "status": "completed"
    },
    "tags": []
   },
   "outputs": [],
   "source": [
    "model = DenseNet().to(device)\n",
    "optim = torch.optim.Adam(model.parameters(), lr=1e-3, weight_decay = 1e-4)\n",
    "loss_fn = nn.CrossEntropyLoss()\n",
    "scheduler = ReduceLROnPlateau(optim, mode='min', factor=0.5, patience=3)"
   ]
  },
  {
   "cell_type": "code",
   "execution_count": 10,
   "id": "8d4ec53c",
   "metadata": {
    "execution": {
     "iopub.execute_input": "2025-10-13T16:45:20.757731Z",
     "iopub.status.busy": "2025-10-13T16:45:20.757514Z",
     "iopub.status.idle": "2025-10-13T17:19:25.434583Z",
     "shell.execute_reply": "2025-10-13T17:19:25.433810Z"
    },
    "papermill": {
     "duration": 2044.683707,
     "end_time": "2025-10-13T17:19:25.435808",
     "exception": false,
     "start_time": "2025-10-13T16:45:20.752101",
     "status": "completed"
    },
    "tags": []
   },
   "outputs": [
    {
     "name": "stdout",
     "output_type": "stream",
     "text": [
      "Epoch [1/100] | Train Loss: 3.8479 | Valid Loss: 3.5705 | Valid Acc: 14.05%\n",
      "Epoch [2/100] | Train Loss: 3.3228 | Valid Loss: 3.2095 | Valid Acc: 20.73%\n",
      "Epoch [3/100] | Train Loss: 3.0040 | Valid Loss: 2.9317 | Valid Acc: 26.30%\n",
      "Epoch [4/100] | Train Loss: 2.7602 | Valid Loss: 2.6273 | Valid Acc: 32.77%\n",
      "Epoch [5/100] | Train Loss: 2.5728 | Valid Loss: 2.5687 | Valid Acc: 33.57%\n",
      "Epoch [6/100] | Train Loss: 2.4221 | Valid Loss: 2.4398 | Valid Acc: 36.63%\n",
      "Epoch [7/100] | Train Loss: 2.3059 | Valid Loss: 2.3609 | Valid Acc: 38.55%\n",
      "Epoch [8/100] | Train Loss: 2.2069 | Valid Loss: 2.2196 | Valid Acc: 40.63%\n",
      "Epoch [9/100] | Train Loss: 2.1119 | Valid Loss: 2.2390 | Valid Acc: 41.12%\n",
      "Epoch [10/100] | Train Loss: 2.0220 | Valid Loss: 2.1651 | Valid Acc: 42.52%\n",
      "Epoch [11/100] | Train Loss: 1.9463 | Valid Loss: 2.0472 | Valid Acc: 45.01%\n",
      "Epoch [12/100] | Train Loss: 1.8869 | Valid Loss: 2.0621 | Valid Acc: 44.97%\n",
      "Epoch [13/100] | Train Loss: 1.8281 | Valid Loss: 2.0288 | Valid Acc: 45.96%\n",
      "Epoch [14/100] | Train Loss: 1.7668 | Valid Loss: 1.9641 | Valid Acc: 47.57%\n",
      "Epoch [15/100] | Train Loss: 1.7360 | Valid Loss: 1.9294 | Valid Acc: 48.14%\n",
      "Epoch [16/100] | Train Loss: 1.6982 | Valid Loss: 1.8828 | Valid Acc: 49.70%\n",
      "Epoch [17/100] | Train Loss: 1.6455 | Valid Loss: 1.8954 | Valid Acc: 48.67%\n",
      "Epoch [18/100] | Train Loss: 1.6093 | Valid Loss: 1.8715 | Valid Acc: 50.16%\n",
      "Epoch [19/100] | Train Loss: 1.5705 | Valid Loss: 1.8465 | Valid Acc: 50.59%\n",
      "Epoch [20/100] | Train Loss: 1.5421 | Valid Loss: 1.8186 | Valid Acc: 50.54%\n",
      "Epoch [21/100] | Train Loss: 1.5219 | Valid Loss: 1.8311 | Valid Acc: 50.74%\n",
      "Epoch [22/100] | Train Loss: 1.4922 | Valid Loss: 1.8565 | Valid Acc: 50.48%\n",
      "Epoch [23/100] | Train Loss: 1.4643 | Valid Loss: 1.8213 | Valid Acc: 51.16%\n",
      "Epoch [24/100] | Train Loss: 1.4338 | Valid Loss: 1.8050 | Valid Acc: 51.50%\n",
      "Epoch [25/100] | Train Loss: 1.4111 | Valid Loss: 1.8021 | Valid Acc: 52.08%\n",
      "Epoch [26/100] | Train Loss: 1.3936 | Valid Loss: 1.7634 | Valid Acc: 52.52%\n",
      "Epoch [27/100] | Train Loss: 1.3749 | Valid Loss: 1.7332 | Valid Acc: 52.74%\n",
      "Epoch [28/100] | Train Loss: 1.3440 | Valid Loss: 1.8206 | Valid Acc: 51.61%\n",
      "Epoch [29/100] | Train Loss: 1.3213 | Valid Loss: 1.7313 | Valid Acc: 53.16%\n",
      "Epoch [30/100] | Train Loss: 1.3190 | Valid Loss: 1.7361 | Valid Acc: 53.87%\n",
      "Epoch [31/100] | Train Loss: 1.2911 | Valid Loss: 1.7477 | Valid Acc: 53.25%\n",
      "Epoch [32/100] | Train Loss: 1.2799 | Valid Loss: 1.7858 | Valid Acc: 52.48%\n",
      "Epoch [33/100] | Train Loss: 1.2570 | Valid Loss: 1.7019 | Valid Acc: 54.30%\n",
      "Epoch [34/100] | Train Loss: 1.2471 | Valid Loss: 1.7521 | Valid Acc: 53.80%\n",
      "Epoch [35/100] | Train Loss: 1.2276 | Valid Loss: 1.7293 | Valid Acc: 53.86%\n",
      "Epoch [36/100] | Train Loss: 1.2167 | Valid Loss: 1.7300 | Valid Acc: 53.97%\n",
      "Epoch [37/100] | Train Loss: 1.2052 | Valid Loss: 1.6940 | Valid Acc: 54.67%\n",
      "Epoch [38/100] | Train Loss: 1.1853 | Valid Loss: 1.7227 | Valid Acc: 54.39%\n",
      "Epoch [39/100] | Train Loss: 1.1706 | Valid Loss: 1.6547 | Valid Acc: 55.33%\n",
      "epoch 39: loss diff < 0.001 → early convergence.\n"
     ]
    },
    {
     "data": {
      "image/png": "[encoded data removed]",
      "text/plain": [
       "<Figure size 1000x500 with 2 Axes>"
      ]
     },
     "metadata": {},
     "output_type": "display_data"
    },
    {
     "data": {
      "text/plain": [
       "([3.847932360839844,\n",
       "  3.3227571075439455,\n",
       "  3.0040456497192385,\n",
       "  2.7601761470794677,\n",
       "  2.572780533027649,\n",
       "  2.4220955636978148,\n",
       "  2.305913499069214,\n",
       "  2.2068724590301514,\n",
       "  2.1118814670562744,\n",
       "  2.0220427766799927,\n",
       "  1.9462876661300659,\n",
       "  1.8869339471817017,\n",
       "  1.8281239379882812,\n",
       "  1.7668021953582764,\n",
       "  1.7360101081848145,\n",
       "  1.6982038372039794,\n",
       "  1.645532431602478,\n",
       "  1.6093316047668458,\n",
       "  1.5704791093826294,\n",
       "  1.5420785044670104,\n",
       "  1.5219031785964965,\n",
       "  1.4921754270553589,\n",
       "  1.4642533858299256,\n",
       "  1.4337570421218873,\n",
       "  1.41110369348526,\n",
       "  1.3935628744125366,\n",
       "  1.3749151579856873,\n",
       "  1.3440224941253662,\n",
       "  1.3213359266281128,\n",
       "  1.3190007816314697,\n",
       "  1.2911497079849243,\n",
       "  1.2798980147361756,\n",
       "  1.2569534392356874,\n",
       "  1.2471338221549988,\n",
       "  1.2276131335258484,\n",
       "  1.216674561882019,\n",
       "  1.2052141445159912,\n",
       "  1.1853467166900635,\n",
       "  1.170576235294342,\n",
       "  1.1708891115188598],\n",
       " [3.570540241375091,\n",
       "  3.2095456290396913,\n",
       "  2.931730305313305,\n",
       "  2.62734678596448,\n",
       "  2.5687445394552437,\n",
       "  2.439805531198052,\n",
       "  2.3608738449728413,\n",
       "  2.2196379641818393,\n",
       "  2.2389636571240272,\n",
       "  2.1650782762819034,\n",
       "  2.0471530606032937,\n",
       "  2.0621210594845425,\n",
       "  2.0287691043440703,\n",
       "  1.9641294031386163,\n",
       "  1.929375274925475,\n",
       "  1.8828344337499825,\n",
       "  1.8953605093014467,\n",
       "  1.8714703025331922,\n",
       "  1.846492492469253,\n",
       "  1.8185849258094837,\n",
       "  1.8310899947099626,\n",
       "  1.8565218084177393,\n",
       "  1.821300464071286,\n",
       "  1.8050154257731832,\n",
       "  1.8020674764730369,\n",
       "  1.7633544943135255,\n",
       "  1.73323842522445,\n",
       "  1.8206444576287726,\n",
       "  1.7312731127830068,\n",
       "  1.7360762266596412,\n",
       "  1.7476583658509952,\n",
       "  1.7858311393458373,\n",
       "  1.7018618120509348,\n",
       "  1.7520523109253805,\n",
       "  1.7293417058932554,\n",
       "  1.729956542610363,\n",
       "  1.694038012984452,\n",
       "  1.7227221249015467,\n",
       "  1.654747551413858,\n",
       "  1.6893534941278445],\n",
       " [0.1405,\n",
       "  0.2073,\n",
       "  0.263,\n",
       "  0.3277,\n",
       "  0.3357,\n",
       "  0.3663,\n",
       "  0.3855,\n",
       "  0.4063,\n",
       "  0.4112,\n",
       "  0.4252,\n",
       "  0.4501,\n",
       "  0.4497,\n",
       "  0.4596,\n",
       "  0.4757,\n",
       "  0.4814,\n",
       "  0.497,\n",
       "  0.4867,\n",
       "  0.5016,\n",
       "  0.5059,\n",
       "  0.5054,\n",
       "  0.5074,\n",
       "  0.5048,\n",
       "  0.5116,\n",
       "  0.515,\n",
       "  0.5208,\n",
       "  0.5252,\n",
       "  0.5274,\n",
       "  0.5161,\n",
       "  0.5316,\n",
       "  0.5387,\n",
       "  0.5325,\n",
       "  0.5248,\n",
       "  0.543,\n",
       "  0.538,\n",
       "  0.5386,\n",
       "  0.5397,\n",
       "  0.5467,\n",
       "  0.5439,\n",
       "  0.5533,\n",
       "  0.5476])"
      ]
     },
     "execution_count": 10,
     "metadata": {},
     "output_type": "execute_result"
    }
   ],
   "source": [
    "train_dataloader_model(model, train_loader, valid_loader, optim= optim, loss_fn= loss_fn)"
   ]
  }
 ],
 "metadata": {
  "kaggle": {
   "accelerator": "nvidiaTeslaT4",
   "dataSources": [],
   "dockerImageVersionId": 31154,
   "isGpuEnabled": true,
   "isInternetEnabled": true,
   "language": "python",
   "sourceType": "notebook"
  },
  "kernelspec": {
   "display_name": "Python 3",
   "language": "python",
   "name": "python3"
  },
  "language_info": {
   "codemirror_mode": {
    "name": "ipython",
    "version": 3
   },
   "file_extension": ".py",
   "mimetype": "text/x-python",
   "name": "python",
   "nbconvert_exporter": "python",
   "pygments_lexer": "ipython3",
   "version": "3.11.13"
  },
  "papermill": {
   "default_parameters": {},
   "duration": 2070.253548,
   "end_time": "2025-10-13T17:19:27.064785",
   "environment_variables": {},
   "exception": null,
   "input_path": "__notebook__.ipynb",
   "output_path": "__notebook__.ipynb",
   "parameters": {},
   "start_time": "2025-10-13T16:44:56.811237",
   "version": "2.6.0"
  }
 },
 "nbformat": 4,
 "nbformat_minor": 5
}
