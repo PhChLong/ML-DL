{
 "cells": [
  {
   "cell_type": "code",
   "execution_count": 1,
   "id": "48c545f1",
   "metadata": {
    "_cell_guid": "b1076dfc-b9ad-4769-8c92-a6c4dae69d19",
    "_uuid": "8f2839f25d086af736a60e9eeb907d3b93b6e0e5",
    "execution": {
     "iopub.execute_input": "2025-10-14T05:26:21.472962Z",
     "iopub.status.busy": "2025-10-14T05:26:21.472691Z",
     "iopub.status.idle": "2025-10-14T05:26:32.798806Z",
     "shell.execute_reply": "2025-10-14T05:26:32.797981Z"
    },
    "id": "jy2qISYZ1rc7",
    "papermill": {
     "duration": 11.331813,
     "end_time": "2025-10-14T05:26:32.800293",
     "exception": false,
     "start_time": "2025-10-14T05:26:21.468480",
     "status": "completed"
    },
    "tags": []
   },
   "outputs": [],
   "source": [
    "import numpy as np\n",
    "import pandas as pd\n",
    "import matplotlib.pyplot as plt\n",
    "import threading\n",
    "\n",
    "import torch\n",
    "from torch import nn\n",
    "from torch.utils.data import DataLoader, random_split\n",
    "import torchvision\n",
    "from torchvision.transforms import v2\n",
    "from torchvision.transforms.v2 import ToTensor\n",
    "from torchvision import datasets\n",
    "from torch.optim.lr_scheduler import ReduceLROnPlateau"
   ]
  },
  {
   "cell_type": "code",
   "execution_count": 2,
   "id": "9a041ae3",
   "metadata": {
    "execution": {
     "iopub.execute_input": "2025-10-14T05:26:32.806930Z",
     "iopub.status.busy": "2025-10-14T05:26:32.806544Z",
     "iopub.status.idle": "2025-10-14T05:26:32.915926Z",
     "shell.execute_reply": "2025-10-14T05:26:32.915096Z"
    },
    "id": "aOBayWep1rc8",
    "outputId": "8e11715f-0878-4889-e25b-11f4c60a92b2",
    "papermill": {
     "duration": 0.113762,
     "end_time": "2025-10-14T05:26:32.917113",
     "exception": false,
     "start_time": "2025-10-14T05:26:32.803351",
     "status": "completed"
    },
    "tags": []
   },
   "outputs": [
    {
     "name": "stdout",
     "output_type": "stream",
     "text": [
      "2\n",
      "GPU 0: Tesla T4\n",
      "GPU 1: Tesla T4\n"
     ]
    }
   ],
   "source": [
    "print(torch.cuda.device_count())\n",
    "for i in range(torch.cuda.device_count()):\n",
    "    print(f\"GPU {i}: {torch.cuda.get_device_name(i)}\")\n",
    "device1 = torch.device(\"cuda:0\")\n",
    "device2 = torch.device(\"cuda:1\")"
   ]
  },
  {
   "cell_type": "code",
   "execution_count": 3,
   "id": "14a1e1cd",
   "metadata": {
    "execution": {
     "iopub.execute_input": "2025-10-14T05:26:32.923392Z",
     "iopub.status.busy": "2025-10-14T05:26:32.923017Z",
     "iopub.status.idle": "2025-10-14T05:26:44.405316Z",
     "shell.execute_reply": "2025-10-14T05:26:44.404648Z"
    },
    "id": "fQchviof1rc8",
    "outputId": "b6688115-2232-4f42-ffed-2c78ac47bec7",
    "papermill": {
     "duration": 11.486846,
     "end_time": "2025-10-14T05:26:44.406750",
     "exception": false,
     "start_time": "2025-10-14T05:26:32.919904",
     "status": "completed"
    },
    "tags": []
   },
   "outputs": [
    {
     "name": "stderr",
     "output_type": "stream",
     "text": [
      "/usr/local/lib/python3.11/dist-packages/torchvision/transforms/v2/_deprecated.py:42: UserWarning: The transform `ToTensor()` is deprecated and will be removed in a future release. Instead, please use `v2.Compose([v2.ToImage(), v2.ToDtype(torch.float32, scale=True)])`.Output is equivalent up to float precision.\n",
      "  warnings.warn(\n",
      "100%|██████████| 169M/169M [00:08<00:00, 21.1MB/s]\n"
     ]
    }
   ],
   "source": [
    "transform_train = v2.Compose([\n",
    "    v2.RandomHorizontalFlip(p=0.5),\n",
    "    v2.RandomCrop(32, padding=4),\n",
    "    v2.ColorJitter(brightness=0.2, contrast=0.2, saturation=0.2),\n",
    "    v2.RandomRotation(15),\n",
    "    ToTensor(),\n",
    "    v2.Normalize(\n",
    "        mean=[0.5071, 0.4867, 0.4408],\n",
    "        std=[0.2675, 0.2565, 0.2761]\n",
    "    )\n",
    "])\n",
    "transform_test = v2.Compose([\n",
    "    ToTensor(),\n",
    "    v2.Normalize(\n",
    "        mean=[0.5071, 0.4867, 0.4408],\n",
    "        std=[0.2675, 0.2565, 0.2761]\n",
    "    )\n",
    "])\n",
    "trainset = datasets.CIFAR100(root = './data', train = True, download= True, transform = transform_train)\n",
    "testset = datasets.CIFAR100(root = './data', train = False, download= True, transform = transform_test)\n",
    "\n",
    "train_size = int(0.8* len(trainset))\n",
    "valid_size = len(trainset) - train_size\n",
    "trainset, validset = random_split(trainset, [train_size, valid_size])\n",
    "\n",
    "train_loader = DataLoader(trainset, batch_size = 64, shuffle = True)\n",
    "valid_loader = DataLoader(validset, batch_size = 64, shuffle = False)\n",
    "test_loader = DataLoader(testset, batch_size = 64, shuffle = False)"
   ]
  },
  {
   "cell_type": "code",
   "execution_count": 4,
   "id": "00d5139c",
   "metadata": {
    "execution": {
     "iopub.execute_input": "2025-10-14T05:26:44.419851Z",
     "iopub.status.busy": "2025-10-14T05:26:44.419596Z",
     "iopub.status.idle": "2025-10-14T05:26:44.430455Z",
     "shell.execute_reply": "2025-10-14T05:26:44.429939Z"
    },
    "id": "1XrQx7LZ1rc9",
    "jupyter": {
     "source_hidden": true
    },
    "papermill": {
     "duration": 0.018394,
     "end_time": "2025-10-14T05:26:44.431475",
     "exception": false,
     "start_time": "2025-10-14T05:26:44.413081",
     "status": "completed"
    },
    "tags": []
   },
   "outputs": [],
   "source": [
    "def train_dataloader_model(\n",
    "    model, train_loader, valid_loader, optim, loss_fn,\n",
    "    device=None, max_epochs=100, diff=1e-3, patience=5, scheduler = None, name = None\n",
    "):\n",
    "    if device is None:\n",
    "        device = torch.device(\"cuda\" if torch.cuda.is_available() else \"cpu\")\n",
    "\n",
    "    model.to(device)\n",
    "\n",
    "    train_losses = []\n",
    "    valid_losses = []\n",
    "    valid_accuracies = []\n",
    "\n",
    "    valid_loss_min = float(\"inf\")\n",
    "    patience_counter = 0\n",
    "\n",
    "    for epoch in range(max_epochs):\n",
    "        # ----------------------------\n",
    "        # TRAINING PHASE\n",
    "        # ----------------------------\n",
    "        model.train()\n",
    "        running_train_loss = 0.0\n",
    "\n",
    "        for X_train, y_train in train_loader:\n",
    "            X_train, y_train = X_train.to(device), y_train.to(device)\n",
    "\n",
    "            optim.zero_grad()\n",
    "            y_pred = model(X_train)\n",
    "            loss = loss_fn(y_pred, y_train)\n",
    "            loss.backward()\n",
    "            optim.step()\n",
    "\n",
    "            running_train_loss += loss.item()\n",
    "\n",
    "        epoch_train_loss = running_train_loss / len(train_loader)\n",
    "        train_losses.append(epoch_train_loss)\n",
    "\n",
    "        # ----------------------------\n",
    "        # VALIDATION PHASE\n",
    "        # ----------------------------\n",
    "        model.eval()\n",
    "        running_valid_loss = 0.0\n",
    "        correct = 0\n",
    "        total = 0\n",
    "\n",
    "        with torch.no_grad():\n",
    "            for X_valid, y_valid in valid_loader:\n",
    "                X_valid, y_valid = X_valid.to(device), y_valid.to(device)\n",
    "                y_pred = model(X_valid)\n",
    "\n",
    "                # Compute validation loss\n",
    "                loss = loss_fn(y_pred, y_valid)\n",
    "                running_valid_loss += loss.item()\n",
    "\n",
    "                # Compute accuracy\n",
    "                _, predicted = torch.max(y_pred, 1)\n",
    "                correct += (predicted == y_valid).sum().item()\n",
    "                total += y_valid.size(0)\n",
    "\n",
    "        epoch_valid_loss = running_valid_loss / len(valid_loader)\n",
    "        epoch_valid_acc = correct / total\n",
    "\n",
    "        valid_losses.append(epoch_valid_loss)\n",
    "        valid_accuracies.append(epoch_valid_acc)\n",
    "\n",
    "        scheduler.step(epoch_valid_loss)\n",
    "        # ----------------------------\n",
    "        # EARLY STOPPING CHECKS\n",
    "        # ----------------------------\n",
    "        if epoch > 0 and abs(train_losses[-1] - train_losses[-2]) < diff:\n",
    "            print(f\"{name}|epoch {epoch}: loss diff < {diff} → early convergence.\")\n",
    "            break\n",
    "\n",
    "        if epoch_valid_loss < valid_loss_min - diff:\n",
    "            valid_loss_min = epoch_valid_loss\n",
    "            patience_counter = 0\n",
    "        else:\n",
    "            patience_counter += 1\n",
    "\n",
    "        print(\n",
    "            f\"{name}|Epoch [{epoch+1}/{max_epochs}] | \"\n",
    "            f\"Train Loss: {epoch_train_loss:.4f} | \"\n",
    "            f\"Valid Loss: {epoch_valid_loss:.4f} | \"\n",
    "            f\"Valid Acc: {epoch_valid_acc*100:.2f}%\"\n",
    "        )\n",
    "\n",
    "        if patience_counter >= patience:\n",
    "            print(f\"\\nEarly stopping: no improvement for {patience} epochs.\")\n",
    "            break\n",
    "\n",
    "    # ----------------------------\n",
    "    # PLOTTING BEFORE RETURN\n",
    "    # ----------------------------\n",
    "    epochs = range(1, len(train_losses) + 1)\n",
    "\n",
    "    plt.figure(figsize=(10, 5))\n",
    "    plt.subplot(1, 2, 1)\n",
    "    plt.plot(epochs, train_losses, label=\"Train Loss\")\n",
    "    plt.plot(epochs, valid_losses, label=\"Valid Loss\")\n",
    "    plt.xlabel(\"Epoch\")\n",
    "    plt.ylabel(\"Loss\")\n",
    "    plt.title(\"Training vs Validation Loss\")\n",
    "    plt.legend()\n",
    "\n",
    "    plt.subplot(1, 2, 2)\n",
    "    plt.plot(epochs, valid_accuracies, label=\"Valid Accuracy\", color=\"green\")\n",
    "    plt.xlabel(\"Epoch\")\n",
    "    plt.ylabel(\"Accuracy\")\n",
    "    plt.title(\"Validation Accuracy\")\n",
    "    plt.legend()\n",
    "\n",
    "    plt.tight_layout()\n",
    "    plt.show()"
   ]
  },
  {
   "cell_type": "markdown",
   "id": "a3f1b9e1",
   "metadata": {
    "id": "HnOWw1xz140K",
    "papermill": {
     "duration": 0.00522,
     "end_time": "2025-10-14T05:26:44.442303",
     "exception": false,
     "start_time": "2025-10-14T05:26:44.437083",
     "status": "completed"
    },
    "tags": []
   },
   "source": [
    "## ResNeXt"
   ]
  },
  {
   "cell_type": "code",
   "execution_count": 5,
   "id": "38bc8e71",
   "metadata": {
    "execution": {
     "iopub.execute_input": "2025-10-14T05:26:44.453949Z",
     "iopub.status.busy": "2025-10-14T05:26:44.453737Z",
     "iopub.status.idle": "2025-10-14T05:26:44.464275Z",
     "shell.execute_reply": "2025-10-14T05:26:44.463574Z"
    },
    "id": "5jAK0KDq1rc9",
    "papermill": {
     "duration": 0.017656,
     "end_time": "2025-10-14T05:26:44.465354",
     "exception": false,
     "start_time": "2025-10-14T05:26:44.447698",
     "status": "completed"
    },
    "tags": []
   },
   "outputs": [],
   "source": [
    "class ResNeXtBlock(nn.Module):\n",
    "    \"\"\"The ResNeXt block.\"\"\"\n",
    "    def __init__(self,in_channels, out_channels, groups, bot_mul, use_1x1conv=False,\n",
    "                 strides=1):\n",
    "        super().__init__()\n",
    "        bot_channels = int(round(out_channels * bot_mul))\n",
    "        bot_channels = max(bot_channels, groups)\n",
    "        self.conv1 = nn.Conv2d(in_channels, bot_channels, kernel_size=1, stride=1)\n",
    "        self.bn1 = nn.BatchNorm2d(bot_channels)\n",
    "\n",
    "        self.conv2 = nn.Conv2d(bot_channels, bot_channels, kernel_size=3,\n",
    "                                   stride=strides, padding=1,\n",
    "                                   groups=bot_channels//groups)\n",
    "        self.bn2 = nn.BatchNorm2d(bot_channels)\n",
    "\n",
    "        self.conv3 = nn.Conv2d(bot_channels, out_channels, kernel_size=1, stride=1)\n",
    "        self.bn3 = nn.BatchNorm2d(out_channels)\n",
    "        self.relu = nn.ReLU()\n",
    "        if use_1x1conv:\n",
    "            self.conv4 = nn.Conv2d(in_channels, out_channels, kernel_size=1,\n",
    "                                       stride=strides)\n",
    "            self.bn4 = nn.BatchNorm2d(out_channels)\n",
    "        else:\n",
    "            self.conv4 = None\n",
    "\n",
    "    def forward(self, X):\n",
    "        Y = self.relu(self.bn1(self.conv1(X)))\n",
    "        Y = self.relu(self.bn2(self.conv2(Y)))\n",
    "        Y = self.bn3(self.conv3(Y))\n",
    "        if self.conv4:\n",
    "            X = self.bn4(self.conv4(X))\n",
    "        return self.relu(Y + X)\n",
    "class ResNeXt(nn.Module):\n",
    "    def block(self, num_residuals, in_channel, out_channels,\n",
    "              groups=32, bot_mul=0.25, first_block=False):\n",
    "        blk = []\n",
    "        for i in range(num_residuals):\n",
    "            if i == 0 and not first_block:\n",
    "               blk.append(ResNeXtBlock(in_channel, out_channels,\n",
    "                                    groups, bot_mul, use_1x1conv=True, strides=2))\n",
    "            else:\n",
    "                blk.append(ResNeXtBlock(out_channels, out_channels,\n",
    "                                    groups, bot_mul))\n",
    "            in_channel = out_channels\n",
    "        return nn.Sequential(*blk)\n",
    "\n",
    "    def __init__(self, arch, num_classes=100):\n",
    "        super(ResNeXt, self).__init__()\n",
    "        self.b1 = nn.Sequential(\n",
    "            nn.Conv2d(3, 64, kernel_size=3, padding=1),\n",
    "            nn.BatchNorm2d(64), nn.ReLU(),\n",
    "            nn.MaxPool2d(kernel_size=3, stride=2, padding=1))\n",
    "        self.net = nn.Sequential(self.b1)\n",
    "        for i, b in enumerate(arch):\n",
    "            self.net.add_module(f'b{i+2}', self.block(*b, first_block=(i==0)))\n",
    "        self.net.add_module('last', nn.Sequential(\n",
    "            nn.AdaptiveAvgPool2d((1, 1)), nn.Flatten(),\n",
    "            nn.Linear(512, num_classes)))\n",
    "    def forward(self, x):\n",
    "        return self.net(x)\n",
    "\n",
    "class ResNeXt18(ResNeXt):\n",
    "    def __init__(self, num_classes=100):\n",
    "        super().__init__(((2, 64, 64), (2, 64, 128), (2, 128, 256), (2, 256, 512))\n",
    "                         , num_classes)\n"
   ]
  },
  {
   "cell_type": "markdown",
   "id": "a084cb3e",
   "metadata": {
    "id": "otfnzHAP17kp",
    "papermill": {
     "duration": 0.005113,
     "end_time": "2025-10-14T05:26:44.475856",
     "exception": false,
     "start_time": "2025-10-14T05:26:44.470743",
     "status": "completed"
    },
    "tags": []
   },
   "source": [
    "## SE_ResNeXt\n",
    "\n",
    "\n"
   ]
  },
  {
   "cell_type": "code",
   "execution_count": 6,
   "id": "65da79e9",
   "metadata": {
    "execution": {
     "iopub.execute_input": "2025-10-14T05:26:44.487695Z",
     "iopub.status.busy": "2025-10-14T05:26:44.487050Z",
     "iopub.status.idle": "2025-10-14T05:26:44.497081Z",
     "shell.execute_reply": "2025-10-14T05:26:44.496381Z"
    },
    "id": "OW4_ymyx13dr",
    "papermill": {
     "duration": 0.01702,
     "end_time": "2025-10-14T05:26:44.498126",
     "exception": false,
     "start_time": "2025-10-14T05:26:44.481106",
     "status": "completed"
    },
    "tags": []
   },
   "outputs": [],
   "source": [
    "class SEBlock(nn.Module):\n",
    "    def __init__(self, num_channels, r = 16):\n",
    "        super().__init__()\n",
    "        self.GlobalPooling = nn.AdaptiveAvgPool2d((1, 1))\n",
    "        self.fc1 = nn.Linear(num_channels, num_channels//r)\n",
    "        self.fc2 = nn.Linear(num_channels//r, num_channels)\n",
    "        self.net = nn.Sequential(\n",
    "            self.GlobalPooling,nn.Flatten(), self.fc1, nn.ReLU(), self.fc2, nn.Sigmoid()\n",
    "        )\n",
    "    def forward(self, x):\n",
    "        y = self.net(x)\n",
    "        y = y[:, :, None, None]\n",
    "        return x * y\n",
    "class SE_ResNeXtBlock(ResNeXtBlock):\n",
    "    def __init__(self, in_channels, out_channels, groups, bot_mul, use_1x1conv=False,\n",
    "                 strides=1):\n",
    "        super().__init__(in_channels, out_channels, groups, bot_mul, use_1x1conv,\n",
    "                 strides)\n",
    "        self.se = SEBlock(out_channels)\n",
    "\n",
    "    def forward(self, X):\n",
    "        Y = self.relu(self.bn1(self.conv1(X)))\n",
    "        Y = self.relu(self.bn2(self.conv2(Y)))\n",
    "        Y = self.bn3(self.conv3(Y))\n",
    "        if self.conv4:\n",
    "            X = self.bn4(self.conv4(X))\n",
    "        Y = self.se(Y)\n",
    "        return self.relu(Y + X)\n",
    "class SE_ResNeXt(ResNeXt):\n",
    "    def block(self, num_residuals, in_channel, out_channels,\n",
    "              groups=32, bot_mul=0.25, first_block=False):\n",
    "        blk = []\n",
    "        for i in range(num_residuals):\n",
    "            if i == 0 and not first_block:\n",
    "               blk.append(SE_ResNeXtBlock(in_channel, out_channels,\n",
    "                                    groups, bot_mul, use_1x1conv=True, strides=2))\n",
    "            else:\n",
    "                blk.append(SE_ResNeXtBlock(out_channels, out_channels,\n",
    "                                    groups, bot_mul))\n",
    "            in_channel = out_channels\n",
    "        return nn.Sequential(*blk)\n",
    "    def __init__(self, arch, num_classes=100):\n",
    "        super().__init__(arch, num_classes)\n",
    "class SE_ResNeXt18(SE_ResNeXt):\n",
    "    def __init__(self, num_classes=100):\n",
    "        super().__init__(((2, 64, 64), (2, 64, 128), (2, 128, 256), (2, 256, 512))\n",
    "                         , num_classes)"
   ]
  },
  {
   "cell_type": "code",
   "execution_count": 7,
   "id": "30f0371f",
   "metadata": {
    "execution": {
     "iopub.execute_input": "2025-10-14T05:26:44.509588Z",
     "iopub.status.busy": "2025-10-14T05:26:44.509390Z",
     "iopub.status.idle": "2025-10-14T05:26:44.823077Z",
     "shell.execute_reply": "2025-10-14T05:26:44.822447Z"
    },
    "id": "px9F8pl61rc9",
    "outputId": "72b8485a-2129-44c3-c33a-0f17729fc4b4",
    "papermill": {
     "duration": 0.32089,
     "end_time": "2025-10-14T05:26:44.824373",
     "exception": false,
     "start_time": "2025-10-14T05:26:44.503483",
     "status": "completed"
    },
    "tags": []
   },
   "outputs": [],
   "source": [
    "model1 = ResNeXt18().to(device1)\n",
    "optim1 = torch.optim.Adam(model1.parameters(), lr=1e-3, weight_decay = 1e-4)\n",
    "model2 = SE_ResNeXt18().to(device2)\n",
    "optim2 = torch.optim.Adam(model2.parameters(), lr=1e-3, weight_decay = 1e-4)\n",
    "loss_fn = nn.CrossEntropyLoss()\n",
    "scheduler1 = ReduceLROnPlateau(optim1, mode='min', factor=0.5, patience=3)\n",
    "scheduler2 = ReduceLROnPlateau(optim2, mode='min', factor=0.5, patience=3)"
   ]
  },
  {
   "cell_type": "code",
   "execution_count": 8,
   "id": "10f41457",
   "metadata": {
    "execution": {
     "iopub.execute_input": "2025-10-14T05:26:44.836260Z",
     "iopub.status.busy": "2025-10-14T05:26:44.836038Z",
     "iopub.status.idle": "2025-10-14T05:26:44.841181Z",
     "shell.execute_reply": "2025-10-14T05:26:44.840392Z"
    },
    "id": "IbsJltfl1rc9",
    "papermill": {
     "duration": 0.012241,
     "end_time": "2025-10-14T05:26:44.842311",
     "exception": false,
     "start_time": "2025-10-14T05:26:44.830070",
     "status": "completed"
    },
    "tags": []
   },
   "outputs": [
    {
     "name": "stdout",
     "output_type": "stream",
     "text": [
      "Total parameters of model1: 693,476\n",
      "Total parameters of model2: 782,556\n"
     ]
    }
   ],
   "source": [
    "total_params1 = sum(p.numel() for p in model1.parameters())\n",
    "print(f\"Total parameters of model1: {total_params1:,}\")\n",
    "total_params2 = sum(p.numel() for p in model2.parameters())\n",
    "print(f\"Total parameters of model2: {total_params2:,}\")"
   ]
  },
  {
   "cell_type": "code",
   "execution_count": 9,
   "id": "3b7592fb",
   "metadata": {
    "execution": {
     "iopub.execute_input": "2025-10-14T05:26:44.853819Z",
     "iopub.status.busy": "2025-10-14T05:26:44.853631Z",
     "iopub.status.idle": "2025-10-14T07:07:50.797080Z",
     "shell.execute_reply": "2025-10-14T07:07:50.796402Z"
    },
    "id": "kIC2DCFF6thX",
    "papermill": {
     "duration": 6065.950527,
     "end_time": "2025-10-14T07:07:50.798319",
     "exception": false,
     "start_time": "2025-10-14T05:26:44.847792",
     "status": "completed"
    },
    "tags": []
   },
   "outputs": [
    {
     "name": "stdout",
     "output_type": "stream",
     "text": [
      "model1|Epoch [1/100] | Train Loss: 3.9605 | Valid Loss: 3.5925 | Valid Acc: 13.70%\n",
      "model2|Epoch [1/100] | Train Loss: 3.8033 | Valid Loss: 3.4805 | Valid Acc: 16.40%\n",
      "model1|Epoch [2/100] | Train Loss: 3.4212 | Valid Loss: 3.3687 | Valid Acc: 18.09%\n",
      "model2|Epoch [2/100] | Train Loss: 3.2229 | Valid Loss: 3.0983 | Valid Acc: 22.77%\n",
      "model1|Epoch [3/100] | Train Loss: 3.1406 | Valid Loss: 3.0575 | Valid Acc: 23.82%\n",
      "model2|Epoch [3/100] | Train Loss: 2.9385 | Valid Loss: 2.9122 | Valid Acc: 27.09%\n",
      "model1|Epoch [4/100] | Train Loss: 2.9284 | Valid Loss: 2.8937 | Valid Acc: 26.78%\n",
      "model2|Epoch [4/100] | Train Loss: 2.7354 | Valid Loss: 2.7418 | Valid Acc: 30.59%\n",
      "model1|Epoch [5/100] | Train Loss: 2.7683 | Valid Loss: 2.8561 | Valid Acc: 27.48%\n",
      "model2|Epoch [5/100] | Train Loss: 2.5792 | Valid Loss: 2.6065 | Valid Acc: 33.01%\n",
      "model1|Epoch [6/100] | Train Loss: 2.6440 | Valid Loss: 2.6671 | Valid Acc: 31.74%\n",
      "model2|Epoch [6/100] | Train Loss: 2.4610 | Valid Loss: 2.5204 | Valid Acc: 34.27%\n",
      "model1|Epoch [7/100] | Train Loss: 2.5275 | Valid Loss: 2.6356 | Valid Acc: 32.74%\n",
      "model2|Epoch [7/100] | Train Loss: 2.3578 | Valid Loss: 2.4420 | Valid Acc: 36.54%\n",
      "model1|Epoch [8/100] | Train Loss: 2.4311 | Valid Loss: 2.5773 | Valid Acc: 34.07%\n",
      "model2|Epoch [8/100] | Train Loss: 2.2763 | Valid Loss: 2.3476 | Valid Acc: 38.38%\n",
      "model1|Epoch [9/100] | Train Loss: 2.3481 | Valid Loss: 2.5004 | Valid Acc: 35.31%\n",
      "model2|Epoch [9/100] | Train Loss: 2.2040 | Valid Loss: 2.3970 | Valid Acc: 38.05%\n",
      "model1|Epoch [10/100] | Train Loss: 2.2717 | Valid Loss: 2.4062 | Valid Acc: 37.39%\n",
      "model2|Epoch [10/100] | Train Loss: 2.1362 | Valid Loss: 2.2987 | Valid Acc: 39.86%\n",
      "model1|Epoch [11/100] | Train Loss: 2.2124 | Valid Loss: 2.3985 | Valid Acc: 36.95%\n",
      "model2|Epoch [11/100] | Train Loss: 2.0755 | Valid Loss: 2.2506 | Valid Acc: 40.86%\n",
      "model1|Epoch [12/100] | Train Loss: 2.1567 | Valid Loss: 2.3329 | Valid Acc: 39.07%\n",
      "model2|Epoch [12/100] | Train Loss: 2.0141 | Valid Loss: 2.2316 | Valid Acc: 41.10%\n",
      "model1|Epoch [13/100] | Train Loss: 2.0955 | Valid Loss: 2.3154 | Valid Acc: 39.38%\n",
      "model2|Epoch [13/100] | Train Loss: 1.9765 | Valid Loss: 2.1899 | Valid Acc: 42.18%\n",
      "model1|Epoch [14/100] | Train Loss: 2.0509 | Valid Loss: 2.2815 | Valid Acc: 39.84%\n",
      "model2|Epoch [14/100] | Train Loss: 1.9238 | Valid Loss: 2.1652 | Valid Acc: 42.76%\n",
      "model1|Epoch [15/100] | Train Loss: 2.0034 | Valid Loss: 2.2009 | Valid Acc: 42.14%\n",
      "model2|Epoch [15/100] | Train Loss: 1.8875 | Valid Loss: 2.1682 | Valid Acc: 42.72%\n",
      "model1|Epoch [16/100] | Train Loss: 1.9606 | Valid Loss: 2.1944 | Valid Acc: 41.66%\n",
      "model2|Epoch [16/100] | Train Loss: 1.8397 | Valid Loss: 2.1182 | Valid Acc: 43.79%\n",
      "model1|Epoch [17/100] | Train Loss: 1.9212 | Valid Loss: 2.1231 | Valid Acc: 43.38%\n",
      "model2|Epoch [17/100] | Train Loss: 1.8032 | Valid Loss: 2.0863 | Valid Acc: 45.14%\n",
      "model1|Epoch [18/100] | Train Loss: 1.8868 | Valid Loss: 2.1208 | Valid Acc: 43.94%\n",
      "model2|Epoch [18/100] | Train Loss: 1.7623 | Valid Loss: 2.0329 | Valid Acc: 45.10%\n",
      "model1|Epoch [19/100] | Train Loss: 1.8484 | Valid Loss: 2.0922 | Valid Acc: 44.42%\n",
      "model2|Epoch [19/100] | Train Loss: 1.7306 | Valid Loss: 2.0888 | Valid Acc: 44.35%\n",
      "model1|Epoch [20/100] | Train Loss: 1.8066 | Valid Loss: 2.0675 | Valid Acc: 44.59%\n",
      "model2|Epoch [20/100] | Train Loss: 1.7013 | Valid Loss: 2.0823 | Valid Acc: 44.21%\n",
      "model1|Epoch [21/100] | Train Loss: 1.7852 | Valid Loss: 2.1400 | Valid Acc: 43.20%\n",
      "model2|Epoch [21/100] | Train Loss: 1.6730 | Valid Loss: 2.0239 | Valid Acc: 45.95%\n",
      "model1|Epoch [22/100] | Train Loss: 1.7504 | Valid Loss: 2.0747 | Valid Acc: 44.50%\n",
      "model2|Epoch [22/100] | Train Loss: 1.6484 | Valid Loss: 2.0210 | Valid Acc: 46.08%\n",
      "model1|Epoch [23/100] | Train Loss: 1.7159 | Valid Loss: 2.0359 | Valid Acc: 46.03%\n",
      "model2|Epoch [23/100] | Train Loss: 1.6193 | Valid Loss: 1.9436 | Valid Acc: 47.94%\n",
      "model1|Epoch [24/100] | Train Loss: 1.6984 | Valid Loss: 2.0561 | Valid Acc: 46.30%\n",
      "model2|Epoch [24/100] | Train Loss: 1.5924 | Valid Loss: 1.9943 | Valid Acc: 46.83%\n",
      "model1|Epoch [25/100] | Train Loss: 1.6685 | Valid Loss: 2.0404 | Valid Acc: 45.88%\n",
      "model2|Epoch [25/100] | Train Loss: 1.5622 | Valid Loss: 1.9752 | Valid Acc: 47.52%\n",
      "model1|Epoch [26/100] | Train Loss: 1.6480 | Valid Loss: 2.0322 | Valid Acc: 46.20%\n",
      "model2|Epoch [26/100] | Train Loss: 1.5373 | Valid Loss: 1.9349 | Valid Acc: 48.27%\n",
      "model1|Epoch [27/100] | Train Loss: 1.6247 | Valid Loss: 1.9879 | Valid Acc: 47.02%\n",
      "model2|Epoch [27/100] | Train Loss: 1.5102 | Valid Loss: 1.9447 | Valid Acc: 47.44%\n",
      "model1|Epoch [28/100] | Train Loss: 1.5917 | Valid Loss: 2.0006 | Valid Acc: 45.85%\n",
      "model2|Epoch [28/100] | Train Loss: 1.4976 | Valid Loss: 1.9431 | Valid Acc: 48.21%\n",
      "model1|Epoch [29/100] | Train Loss: 1.5752 | Valid Loss: 1.9764 | Valid Acc: 48.13%\n",
      "model2|Epoch [29/100] | Train Loss: 1.4774 | Valid Loss: 1.9358 | Valid Acc: 48.94%\n",
      "model1|Epoch [30/100] | Train Loss: 1.5478 | Valid Loss: 2.0240 | Valid Acc: 45.73%\n",
      "model2|Epoch [30/100] | Train Loss: 1.4621 | Valid Loss: 1.9399 | Valid Acc: 48.33%\n",
      "model1|Epoch [31/100] | Train Loss: 1.5354 | Valid Loss: 2.0369 | Valid Acc: 45.81%\n",
      "model2|Epoch [31/100] | Train Loss: 1.2735 | Valid Loss: 1.7846 | Valid Acc: 51.96%\n",
      "model1|Epoch [32/100] | Train Loss: 1.5025 | Valid Loss: 1.9197 | Valid Acc: 48.72%\n",
      "model2|Epoch [32/100] | Train Loss: 1.2265 | Valid Loss: 1.8063 | Valid Acc: 52.12%\n",
      "model1|Epoch [33/100] | Train Loss: 1.4871 | Valid Loss: 1.9910 | Valid Acc: 47.15%\n",
      "model2|Epoch [33/100] | Train Loss: 1.2003 | Valid Loss: 1.8033 | Valid Acc: 52.18%\n",
      "model1|Epoch [34/100] | Train Loss: 1.4647 | Valid Loss: 1.9359 | Valid Acc: 48.37%\n",
      "model2|Epoch [34/100] | Train Loss: 1.1693 | Valid Loss: 1.7882 | Valid Acc: 52.71%\n",
      "model1|Epoch [35/100] | Train Loss: 1.4522 | Valid Loss: 1.9312 | Valid Acc: 48.98%\n",
      "model2|Epoch [35/100] | Train Loss: 1.1468 | Valid Loss: 1.7908 | Valid Acc: 52.62%\n",
      "model1|Epoch [36/100] | Train Loss: 1.4323 | Valid Loss: 1.9272 | Valid Acc: 48.48%\n",
      "model2|Epoch [36/100] | Train Loss: 1.0524 | Valid Loss: 1.7440 | Valid Acc: 53.60%\n",
      "model1|Epoch [37/100] | Train Loss: 1.2598 | Valid Loss: 1.8203 | Valid Acc: 51.67%\n",
      "model2|Epoch [37/100] | Train Loss: 1.0087 | Valid Loss: 1.7490 | Valid Acc: 53.90%\n",
      "model1|Epoch [38/100] | Train Loss: 1.2144 | Valid Loss: 1.7952 | Valid Acc: 51.90%\n",
      "model2|Epoch [38/100] | Train Loss: 0.9947 | Valid Loss: 1.7439 | Valid Acc: 54.41%\n",
      "model1|Epoch [39/100] | Train Loss: 1.1848 | Valid Loss: 1.7928 | Valid Acc: 52.48%\n",
      "model2|Epoch [39/100] | Train Loss: 0.9796 | Valid Loss: 1.7611 | Valid Acc: 54.11%\n",
      "model1|Epoch [40/100] | Train Loss: 1.1705 | Valid Loss: 1.7922 | Valid Acc: 52.18%\n",
      "model2|Epoch [40/100] | Train Loss: 0.9624 | Valid Loss: 1.7313 | Valid Acc: 54.52%\n",
      "model1|Epoch [41/100] | Train Loss: 1.1515 | Valid Loss: 1.8057 | Valid Acc: 52.23%\n",
      "model2|Epoch [41/100] | Train Loss: 0.9500 | Valid Loss: 1.7577 | Valid Acc: 53.89%\n",
      "model1|Epoch [42/100] | Train Loss: 1.1369 | Valid Loss: 1.7855 | Valid Acc: 52.46%\n",
      "model2|Epoch [42/100] | Train Loss: 0.9236 | Valid Loss: 1.7623 | Valid Acc: 55.03%\n",
      "model1|Epoch [43/100] | Train Loss: 1.1173 | Valid Loss: 1.8078 | Valid Acc: 52.24%\n",
      "model2|epoch 42: loss diff < 0.001 → early convergence.\n"
     ]
    },
    {
     "data": {
      "image/png": "[encoded data removed]",
      "text/plain": [
       "<Figure size 1000x500 with 2 Axes>"
      ]
     },
     "metadata": {},
     "output_type": "display_data"
    },
    {
     "name": "stdout",
     "output_type": "stream",
     "text": [
      "model1|Epoch [44/100] | Train Loss: 1.1038 | Valid Loss: 1.8108 | Valid Acc: 52.24%\n",
      "model1|Epoch [45/100] | Train Loss: 1.0872 | Valid Loss: 1.8279 | Valid Acc: 52.44%\n",
      "model1|Epoch [46/100] | Train Loss: 1.0741 | Valid Loss: 1.8046 | Valid Acc: 52.51%\n",
      "model1|Epoch [47/100] | Train Loss: 0.9833 | Valid Loss: 1.7377 | Valid Acc: 54.76%\n",
      "model1|Epoch [48/100] | Train Loss: 0.9460 | Valid Loss: 1.7340 | Valid Acc: 54.20%\n",
      "model1|Epoch [49/100] | Train Loss: 0.9214 | Valid Loss: 1.7555 | Valid Acc: 54.75%\n",
      "model1|Epoch [50/100] | Train Loss: 0.9113 | Valid Loss: 1.7269 | Valid Acc: 54.45%\n",
      "model1|Epoch [51/100] | Train Loss: 0.9001 | Valid Loss: 1.7589 | Valid Acc: 54.69%\n",
      "model1|Epoch [52/100] | Train Loss: 0.8872 | Valid Loss: 1.7286 | Valid Acc: 55.02%\n",
      "model1|Epoch [53/100] | Train Loss: 0.8802 | Valid Loss: 1.7481 | Valid Acc: 54.42%\n",
      "model1|Epoch [54/100] | Train Loss: 0.8736 | Valid Loss: 1.7717 | Valid Acc: 54.49%\n",
      "model1|Epoch [55/100] | Train Loss: 0.8136 | Valid Loss: 1.7364 | Valid Acc: 55.00%\n",
      "\n",
      "Early stopping: no improvement for 5 epochs.\n"
     ]
    },
    {
     "data": {
      "image/png": "[encoded data removed]",
      "text/plain": [
       "<Figure size 1000x500 with 2 Axes>"
      ]
     },
     "metadata": {},
     "output_type": "display_data"
    }
   ],
   "source": [
    "t1 = threading.Thread(\n",
    "    target=train_dataloader_model,\n",
    "    args=(model1, train_loader, valid_loader),\n",
    "    kwargs={\n",
    "        'optim': optim1,\n",
    "        'loss_fn': loss_fn,\n",
    "        'scheduler': scheduler1,\n",
    "        'name': 'model1'\n",
    "    }\n",
    ")\n",
    "\n",
    "t2 = threading.Thread(\n",
    "    target=train_dataloader_model,\n",
    "    args=(model2, train_loader, valid_loader),\n",
    "    kwargs={\n",
    "        'optim': optim2,\n",
    "        'loss_fn': loss_fn,\n",
    "        'scheduler': scheduler2,\n",
    "        'name': 'model2'\n",
    "    }\n",
    ")\n",
    "t1.start()\n",
    "t2.start()\n",
    "\n",
    "t1.join()\n",
    "t2.join()"
   ]
  },
  {
   "cell_type": "code",
   "execution_count": 10,
   "id": "ec5a2188",
   "metadata": {
    "execution": {
     "iopub.execute_input": "2025-10-14T07:07:50.821157Z",
     "iopub.status.busy": "2025-10-14T07:07:50.820954Z",
     "iopub.status.idle": "2025-10-14T07:07:53.728452Z",
     "shell.execute_reply": "2025-10-14T07:07:53.727594Z"
    },
    "papermill": {
     "duration": 2.920001,
     "end_time": "2025-10-14T07:07:53.729650",
     "exception": false,
     "start_time": "2025-10-14T07:07:50.809649",
     "status": "completed"
    },
    "tags": []
   },
   "outputs": [
    {
     "name": "stdout",
     "output_type": "stream",
     "text": [
      "Test Loss: 1.5862 | Test Accuracy: 59.21%\n"
     ]
    }
   ],
   "source": [
    "model1.eval()\n",
    "with torch.no_grad():\n",
    "    epoch_test_loss = 0.0\n",
    "    correct = 0\n",
    "    total = 0\n",
    "\n",
    "    for X_test, y_test in test_loader:\n",
    "        X_test, y_test = X_test.to(device1), y_test.to(device1)\n",
    "        y_test_pred = model1(X_test)\n",
    "\n",
    "        # Compute loss\n",
    "        loss = loss_fn(y_test_pred, y_test)\n",
    "        epoch_test_loss += loss.item()\n",
    "\n",
    "        # Compute accuracy\n",
    "        _, predicted = torch.max(y_test_pred, 1)\n",
    "        correct += (predicted == y_test).sum().item()\n",
    "        total += y_test.size(0)\n",
    "\n",
    "    epoch_test_loss /= len(test_loader)\n",
    "    test_accuracy = correct / total * 100\n",
    "\n",
    "print(f\"Test Loss: {epoch_test_loss:.4f} | Test Accuracy: {test_accuracy:.2f}%\")"
   ]
  },
  {
   "cell_type": "code",
   "execution_count": 11,
   "id": "ad144687",
   "metadata": {
    "execution": {
     "iopub.execute_input": "2025-10-14T07:07:53.752374Z",
     "iopub.status.busy": "2025-10-14T07:07:53.751843Z",
     "iopub.status.idle": "2025-10-14T07:07:56.679242Z",
     "shell.execute_reply": "2025-10-14T07:07:56.678502Z"
    },
    "papermill": {
     "duration": 2.93963,
     "end_time": "2025-10-14T07:07:56.680323",
     "exception": false,
     "start_time": "2025-10-14T07:07:53.740693",
     "status": "completed"
    },
    "tags": []
   },
   "outputs": [
    {
     "name": "stdout",
     "output_type": "stream",
     "text": [
      "Test Loss: 1.5948 | Test Accuracy: 59.34%\n"
     ]
    }
   ],
   "source": [
    "model2.eval()\n",
    "test_loss = 0.0\n",
    "correct = 0\n",
    "total = 0\n",
    "\n",
    "with torch.no_grad():\n",
    "    for X_test, y_test in test_loader:\n",
    "        X_test, y_test = X_test.to(device1), y_test.to(device1)\n",
    "        y_pred = model2(X_test)\n",
    "\n",
    "        # Compute batch loss\n",
    "        loss = loss_fn(y_pred, y_test)\n",
    "        test_loss += loss.item()\n",
    "\n",
    "        # Compute batch accuracy\n",
    "        _, predicted = torch.max(y_pred, 1)\n",
    "        correct += (predicted == y_test).sum().item()\n",
    "        total += y_test.size(0)\n",
    "\n",
    "# Average loss per batch\n",
    "test_loss /= len(test_loader)\n",
    "test_acc = correct / total * 100\n",
    "\n",
    "print(f\"Test Loss: {test_loss:.4f} | Test Accuracy: {test_acc:.2f}%\")\n"
   ]
  }
 ],
 "metadata": {
  "accelerator": "GPU",
  "colab": {
   "gpuType": "T4",
   "provenance": []
  },
  "kaggle": {
   "accelerator": "nvidiaTeslaT4",
   "dataSources": [],
   "dockerImageVersionId": 31153,
   "isGpuEnabled": true,
   "isInternetEnabled": true,
   "language": "python",
   "sourceType": "notebook"
  },
  "kernelspec": {
   "display_name": "Python 3",
   "language": "python",
   "name": "python3"
  },
  "language_info": {
   "codemirror_mode": {
    "name": "ipython",
    "version": 3
   },
   "file_extension": ".py",
   "mimetype": "text/x-python",
   "name": "python",
   "nbconvert_exporter": "python",
   "pygments_lexer": "ipython3",
   "version": "3.11.13"
  },
  "papermill": {
   "default_parameters": {},
   "duration": 6100.884221,
   "end_time": "2025-10-14T07:07:58.411374",
   "environment_variables": {},
   "exception": null,
   "input_path": "__notebook__.ipynb",
   "output_path": "__notebook__.ipynb",
   "parameters": {},
   "start_time": "2025-10-14T05:26:17.527153",
   "version": "2.6.0"
  }
 },
 "nbformat": 4,
 "nbformat_minor": 5
}
